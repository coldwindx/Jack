{
 "cells": [
  {
   "cell_type": "code",
   "execution_count": 140,
   "metadata": {},
   "outputs": [],
   "source": [
    "import os\n",
    "import sys\n",
    "sys.path.append(os.path.abspath(os.path.join(os.getcwd(), os.pardir)))  "
   ]
  },
  {
   "cell_type": "code",
   "execution_count": 141,
   "metadata": {},
   "outputs": [],
   "source": [
    "args = {\n",
    "    \"pretrain\": '/home/zhulin/pretrain/bert_pretrain_uncased/',\n",
    "    \"dataset\": \"/mnt/sdd1/data/zhulin/jack/cdatasets.test.5.csv\",\n",
    "    # \"scores\": \"/mnt/sdd1/data/zhulin/jack/scores/SingleChannelPredictor.npy\",\n",
    "    # \"scores\": \"/mnt/sdd1/data/zhulin/jack/scores/ExtraTreesClassifier.npy\",\n",
    "    # \"scores\": \"/mnt/sdd1/data/zhulin/jack/scores/DeepRanPredictor.npy\",\n",
    "    \"scores\": \"/mnt/sdd1/data/zhulin/jack/scores/DeepGuardPredictor.npy\"\n",
    "}\n",
    "thres = 1.0274e-06\n",
    "# thres = 0.5"
   ]
  },
  {
   "cell_type": "code",
   "execution_count": 142,
   "metadata": {},
   "outputs": [
    {
     "data": {
      "text/html": [
       "<div class='datatable'>\n",
       "  <table class='frame'>\n",
       "  <thead>\n",
       "    <tr class='colnames'><td class='row_index'></td><th>index</th><th>unique_key</th><th>pid</th><th>pname</th><th>label</th><th>channel</th><th>cnt</th></tr>\n",
       "    <tr class='coltypes'><td class='row_index'></td><td class='str' title='str32'>&#x25AA;&#x25AA;&#x25AA;&#x25AA;</td><td class='int' title='int64'>&#x25AA;&#x25AA;&#x25AA;&#x25AA;&#x25AA;&#x25AA;&#x25AA;&#x25AA;</td><td class='int' title='int32'>&#x25AA;&#x25AA;&#x25AA;&#x25AA;</td><td class='str' title='str32'>&#x25AA;&#x25AA;&#x25AA;&#x25AA;</td><td class='bool' title='bool8'>&#x25AA;</td><td class='str' title='str64'>&#x25AA;&#x25AA;&#x25AA;&#x25AA;&#x25AA;&#x25AA;&#x25AA;&#x25AA;</td><td class='int' title='int32'>&#x25AA;&#x25AA;&#x25AA;&#x25AA;</td></tr>\n",
       "  </thead>\n",
       "  <tbody>\n",
       "    <tr><td class='row_index'>0</td><td>kad29f77ee86ed9827158347befa8998d</td><td>&minus;1</td><td>2868</td><td>explorer.exe</td><td>0</td><td>RegistryOpen \\Registry\\Machine\\Software\\Policies\\Microsoft\\SQMClient\\Windows RegistryOpen \\Registry\\&#133;</td><td>8</td></tr>\n",
       "    <tr><td class='row_index'>1</td><td>kad29f77ee86ed9827158347befa8998d</td><td>&minus;1</td><td>2868</td><td>explorer.exe</td><td>0</td><td>FileIORead C:\\Users\\Administrator\\AppData\\Roaming\\Microsoft\\Windows\\Themes\\CachedFiles\\CachedImage_1&#133;</td><td>8</td></tr>\n",
       "    <tr><td class='row_index'>2</td><td>kad29f77ee86ed9827158347befa8998d</td><td>&minus;1</td><td>2868</td><td>explorer.exe</td><td>0</td><td>RegistryQueryValue DisplayVersion RegistryOpen Software\\Microsoft\\Windows NT\\CurrentVersion\\Windows &#133;</td><td>8</td></tr>\n",
       "  </tbody>\n",
       "  </table>\n",
       "  <div class='footer'>\n",
       "    <div class='frame_dimensions'>3 rows &times; 7 columns</div>\n",
       "  </div>\n",
       "</div>\n"
      ],
      "text/plain": [
       "<Frame#7f8c0c9cce40 3x7>"
      ]
     },
     "execution_count": 142,
     "metadata": {},
     "output_type": "execute_result"
    }
   ],
   "source": [
    "### load datasets\n",
    "import numpy as np\n",
    "import pandas as pd\n",
    "import datatable as dt\n",
    "\n",
    "data = dt.fread(args[\"dataset\"], fill=True)\n",
    "data.head(3)"
   ]
  },
  {
   "cell_type": "code",
   "execution_count": 143,
   "metadata": {},
   "outputs": [
    {
     "data": {
      "text/html": [
       "<div class='datatable'>\n",
       "  <table class='frame'>\n",
       "  <thead>\n",
       "    <tr class='colnames'><td class='row_index'></td><th>index</th><th>unique_key</th><th>pid</th><th>pname</th><th>label</th><th>channel</th><th>cnt</th><th>score</th><th>pred</th></tr>\n",
       "    <tr class='coltypes'><td class='row_index'></td><td class='str' title='str32'>&#x25AA;&#x25AA;&#x25AA;&#x25AA;</td><td class='int' title='int64'>&#x25AA;&#x25AA;&#x25AA;&#x25AA;&#x25AA;&#x25AA;&#x25AA;&#x25AA;</td><td class='int' title='int32'>&#x25AA;&#x25AA;&#x25AA;&#x25AA;</td><td class='str' title='str32'>&#x25AA;&#x25AA;&#x25AA;&#x25AA;</td><td class='bool' title='bool8'>&#x25AA;</td><td class='str' title='str64'>&#x25AA;&#x25AA;&#x25AA;&#x25AA;&#x25AA;&#x25AA;&#x25AA;&#x25AA;</td><td class='int' title='int32'>&#x25AA;&#x25AA;&#x25AA;&#x25AA;</td><td class='float' title='float32'>&#x25AA;&#x25AA;&#x25AA;&#x25AA;</td><td class='int' title='int32'>&#x25AA;&#x25AA;&#x25AA;&#x25AA;</td></tr>\n",
       "  </thead>\n",
       "  <tbody>\n",
       "    <tr><td class='row_index'>0</td><td>kad29f77ee86ed9827158347befa8998d</td><td>&minus;1</td><td>2868</td><td>explorer.exe</td><td>0</td><td>RegistryOpen \\Registry\\Machine\\Software\\Policies\\Microsoft\\SQMClient\\Windows RegistryOpen \\Registry\\&#133;</td><td>8</td><td>1.19561e-06</td><td>1</td></tr>\n",
       "    <tr><td class='row_index'>1</td><td>kad29f77ee86ed9827158347befa8998d</td><td>&minus;1</td><td>2868</td><td>explorer.exe</td><td>0</td><td>FileIORead C:\\Users\\Administrator\\AppData\\Roaming\\Microsoft\\Windows\\Themes\\CachedFiles\\CachedImage_1&#133;</td><td>8</td><td>1.08493e-06</td><td>1</td></tr>\n",
       "    <tr><td class='row_index'>2</td><td>kad29f77ee86ed9827158347befa8998d</td><td>&minus;1</td><td>2868</td><td>explorer.exe</td><td>0</td><td>RegistryQueryValue DisplayVersion RegistryOpen Software\\Microsoft\\Windows NT\\CurrentVersion\\Windows &#133;</td><td>8</td><td>1.06624e-06</td><td>1</td></tr>\n",
       "    <tr><td class='row_index'>3</td><td>kad29f77ee86ed9827158347befa8998d</td><td>&minus;1</td><td>2868</td><td>explorer.exe</td><td>0</td><td>RegistryOpen \\REGISTRY\\USER\\S-1-5-21-2059603325-2600630385-1437625685-500\\\\SOFTWARE\\Microsoft\\System&#133;</td><td>8</td><td>1.03044e-06</td><td>1</td></tr>\n",
       "    <tr><td class='row_index'>4</td><td>kad29f77ee86ed9827158347befa8998d</td><td>&minus;1</td><td>2868</td><td>explorer.exe</td><td>0</td><td>RegistryOpen Control Panel\\Desktop RegistryQueryValue PaintDesktopVersion RegistryQuery Software\\Mic&#133;</td><td>8</td><td>1.03409e-06</td><td>1</td></tr>\n",
       "    <tr><td class='row_index'>5</td><td>kad29f77ee86ed9827158347befa8998d</td><td>&minus;1</td><td>2868</td><td>explorer.exe</td><td>0</td><td>RegistryQuery Control Panel\\Desktop RegistryOpen AppEvents\\Schemes\\Apps\\.Default\\CCSelect\\.current R&#133;</td><td>8</td><td>1.03225e-06</td><td>1</td></tr>\n",
       "    <tr><td class='row_index'>6</td><td>kad29f77ee86ed9827158347befa8998d</td><td>&minus;1</td><td>2868</td><td>explorer.exe</td><td>0</td><td>RegistryOpen \\Registry\\Machine\\SOFTWARE\\Microsoft\\SystemCertificates\\Root\\Certificates\\2BD63D28D7BCD&#133;</td><td>8</td><td>1.20581e-06</td><td>1</td></tr>\n",
       "    <tr><td class='row_index'>7</td><td>kad29f77ee86ed9827158347befa8998d</td><td>&minus;1</td><td>2912</td><td>ChsIME.exe</td><td>0</td><td>RegistryOpen \\Registry\\User\\S-1-5-21-2059603325-2600630385-1437625685-500_Classes RegistryQuery  Reg&#133;</td><td>8</td><td>1.03041e-06</td><td>1</td></tr>\n",
       "    <tr><td class='row_index'>8</td><td>kad29f77ee86ed9827158347befa8998d</td><td>&minus;1</td><td>2912</td><td>ChsIME.exe</td><td>0</td><td>RegistryOpen \\Registry\\User\\S-1-5-21-2059603325-2600630385-1437625685-500_Classes RegistryQuery CLSI&#133;</td><td>8</td><td>1.03058e-06</td><td>1</td></tr>\n",
       "    <tr><td class='row_index'>9</td><td>kad29f77ee86ed9827158347befa8998d</td><td>&minus;1</td><td>2868</td><td>explorer.exe</td><td>0</td><td>RegistryQueryValue {1NP14R77-02R7-4R5Q-O744-2RO1NR5198O7}\\pzq.rkr RegistryQuery SOFTWARE\\Microsoft\\C&#133;</td><td>8</td><td>1.30799e-06</td><td>1</td></tr>\n",
       "    <tr><td class='row_index'>10</td><td>kad29f77ee86ed9827158347befa8998d</td><td>&minus;1</td><td>2912</td><td>ChsIME.exe</td><td>0</td><td>RegistryOpen \\REGISTRY\\USER\\S-1-5-21-2059603325-2600630385-1437625685-500_CLASSES\\Wow6432Node\\CLSID\\&#133;</td><td>8</td><td>1.03041e-06</td><td>1</td></tr>\n",
       "    <tr><td class='row_index'>11</td><td>kad29f77ee86ed9827158347befa8998d</td><td>&minus;1</td><td>2868</td><td>explorer.exe</td><td>0</td><td>RegistryQuery SOFTWARE\\Microsoft\\CTF\\KnownClasses RegistryOpen Software\\Microsoft\\Windows NT\\Current&#133;</td><td>8</td><td>1.03225e-06</td><td>1</td></tr>\n",
       "    <tr><td class='row_index'>12</td><td>kad29f77ee86ed9827158347befa8998d</td><td>&minus;1</td><td>2912</td><td>ChsIME.exe</td><td>0</td><td>RegistryOpen \\Registry\\User\\S-1-5-21-2059603325-2600630385-1437625685-500_Classes RegistryQuery CLSI&#133;</td><td>8</td><td>1.0307e-06</td><td>1</td></tr>\n",
       "    <tr><td class='row_index'>13</td><td>kad29f77ee86ed9827158347befa8998d</td><td>&minus;1</td><td>2912</td><td>ChsIME.exe</td><td>0</td><td>RegistryQuery CLSID\\{92B0FB42-E9B6-4359-8C81-2496639DC7CD} RegistryOpen \\Registry\\Machine\\Software\\C&#133;</td><td>8</td><td>1.03041e-06</td><td>1</td></tr>\n",
       "    <tr><td class='row_index'>14</td><td>kad29f77ee86ed9827158347befa8998d</td><td>&minus;1</td><td>2868</td><td>explorer.exe</td><td>0</td><td>ThreadStart 3492 RegistryQuery CLSID\\{92B0FB42-E9B6-4359-8C81-2496639DC7CD} RegistryQuery  RegistryQ&#133;</td><td>8</td><td>1.20415e-06</td><td>1</td></tr>\n",
       "    <tr><td class='row_index'>&#x22EE;</td><td class='hellipsis'>&#x22EE;</td><td class='hellipsis'>&#x22EE;</td><td class='hellipsis'>&#x22EE;</td><td class='hellipsis'>&#x22EE;</td><td class='hellipsis'>&#x22EE;</td><td class='hellipsis'>&#x22EE;</td><td class='hellipsis'>&#x22EE;</td><td class='hellipsis'>&#x22EE;</td><td class='hellipsis'>&#x22EE;</td></tr>\n",
       "    <tr><td class='row_index'>2,332,553</td><td>z_leidianmoniqi</td><td>&minus;1</td><td>2924</td><td>ChsIME.exe</td><td>0</td><td>RegistryOpen \\REGISTRY\\USER\\S-1-5-21-2059603325-2600630385-1437625685-500_CLASSES\\Wow6432Node\\CLSID\\&#133;</td><td>4</td><td>1.02261e-06</td><td>0</td></tr>\n",
       "    <tr><td class='row_index'>2,332,554</td><td>z_leidianmoniqi</td><td>&minus;1</td><td>1440</td><td>svchost.exe</td><td>0</td><td>ThreadStart 3780</td><td>1</td><td>1.19082e-06</td><td>1</td></tr>\n",
       "    <tr><td class='row_index'>2,332,555</td><td>z_leidianmoniqi</td><td>&minus;1</td><td>388</td><td>ZhuDongFangYu.exe</td><td>0</td><td>RegistryOpen \\Registry\\User\\360SPDM\\CC2FCASH\\speedmem2\\h\\61\\5487445811874482529 RegistryOpen \\Regist&#133;</td><td>6</td><td>1.02688e-06</td><td>0</td></tr>\n",
       "    <tr><td class='row_index'>2,332,556</td><td>z_leidianmoniqi</td><td>&minus;1</td><td>780</td><td>svchost.exe</td><td>0</td><td>RegistryQueryValue RegistrationEnabled</td><td>1</td><td>1.01889e-06</td><td>0</td></tr>\n",
       "    <tr><td class='row_index'>2,332,557</td><td>z_leidianmoniqi</td><td>&minus;1</td><td>2908</td><td>explorer.exe</td><td>0</td><td>FileIOClose System32 FileIOCreate  FileIOCleanup cmd.exe FileIOClose cmd.exe</td><td>4</td><td>1.21587e-06</td><td>1</td></tr>\n",
       "  </tbody>\n",
       "  </table>\n",
       "  <div class='footer'>\n",
       "    <div class='frame_dimensions'>2,332,558 rows &times; 9 columns</div>\n",
       "  </div>\n",
       "</div>\n"
      ],
      "text/plain": [
       "<Frame#7f8c1407e9c0 2332558x9>"
      ]
     },
     "execution_count": 143,
     "metadata": {},
     "output_type": "execute_result"
    }
   ],
   "source": [
    "scores = np.load(args[\"scores\"])\n",
    "data[\"score\"] = scores\n",
    "data[\"pred\"] = data[:, dt.ifelse(dt.f.score < thres, 0, 1)]\n",
    "data"
   ]
  },
  {
   "cell_type": "code",
   "execution_count": 144,
   "metadata": {},
   "outputs": [
    {
     "data": {
      "text/plain": [
       "['k00e3b3952d6cfe18aba4554a034f8e55',\n",
       " 'k087f42dd5c17b7c42723dfc150a8da42',\n",
       " 'k0880430c257ce49d7490099d2a8dd01a',\n",
       " 'k0a47084d98bed02037035d8e3120c241',\n",
       " 'k0c4502d6655264a9aa420274a0ddeaeb',\n",
       " 'k168447d837fc71deeee9f6c15e22d4f4',\n",
       " 'k1de48555aafd904f53e8b19f99658ce8',\n",
       " 'k209a288c68207d57e0ce6e60ebf60729',\n",
       " 'k21a563f958b73d453ad91e251b11855c',\n",
       " 'k2218db42c1b69db72d7432c8d6fcab9d',\n",
       " 'k25a54e24e9126fba91ccb92143136e9f',\n",
       " 'k2bbb2d9be1a993a8dfef0dd719c589a0',\n",
       " 'k2bbff2111232d73a93cd435300d0a07e',\n",
       " 'k33a7c3fe6c663032798a6780bb21599c',\n",
       " 'k38393408898e353857a18f481cf15935',\n",
       " 'k4edfdc708fb7cb3606ca68b6c288f979',\n",
       " 'k58b70be83f9735f4e626054de966cc94',\n",
       " 'k5c7fb0927db37372da25f270708103a2',\n",
       " 'k5e271dbfb5803f600b30f7d9945024fd',\n",
       " 'k643c8c25fbe8c3cc7576bc8e7bcd8a68',\n",
       " 'k64497a0fa912f0e190359684de92be2d',\n",
       " 'k6992dd450b7581d7c2a040d15610a8c5',\n",
       " 'k6c660f960daac148be75427c712d0134',\n",
       " 'k6e080aa085293bb9fbdcc9015337d309',\n",
       " 'k732a229132d455b98038e5a23432385d',\n",
       " 'k74d9610a72fa9ed105c927e3b1897c5b',\n",
       " 'k77d0a95415ef989128805252cba93dc2',\n",
       " 'k80d2cfccef17caa46226147c1b0648e6',\n",
       " 'k81fc90c9f339042edc419e0a62a03e17',\n",
       " 'k84c82835a5d21bbcf75a61706d8ab549',\n",
       " 'k8c64c2ff302f64cf326897af8176d68e',\n",
       " 'k9ce01dfbf25dfea778e57d8274675d6f',\n",
       " 'kad29f77ee86ed9827158347befa8998d',\n",
       " 'kb572a0486274ee9c0ba816c1b91b87c7',\n",
       " 'kb65b194c6cc134d56ba3acdcc7bd3051',\n",
       " 'kb7be2da288647b28c1697615e8d07b17',\n",
       " 'kba67dd5ab7d6061704f2903573cec303',\n",
       " 'kc24f6144e905b717a372c529d969611e',\n",
       " 'kc64eb31c168a78c8b17198b15ba7e638',\n",
       " 'kc9ec0d9ff44f445ce5614cc87398b38d',\n",
       " 'kcc378f899d56f8d3c76b9905b47a84a6',\n",
       " 'kd5fee0c6f1d0d730de259c64e6373a0c',\n",
       " 'kdeebbea18401e8b5e83c410c6d3a8b4e',\n",
       " 'kdffd2b26085eddb88743ae3fc7be9eee',\n",
       " 'ke1e41506da591e55cee1825494ac8f42',\n",
       " 'ke3dd1eb73e602ea95ad3e325d846d37c',\n",
       " 'ke3f6878bcafe2463f6028956f44a6e74',\n",
       " 'ke4e439fc5ade188ba2c69367ba6731b6',\n",
       " 'keba85b706259f4dc0aec06a6a024609a',\n",
       " 'z_360software',\n",
       " 'z_aiqiyi',\n",
       " 'z_baiduwangpan',\n",
       " 'z_bilibili',\n",
       " 'z_dayuchixiaoyu',\n",
       " 'z_douyin',\n",
       " 'z_hengxingbofangqi',\n",
       " 'z_kuaijianji',\n",
       " 'z_leidianmoniqi',\n",
       " 'z_office_installer',\n",
       " 'z_pdf',\n",
       " 'z_pdf_zhuanhuan',\n",
       " 'z_readpaper_installer',\n",
       " 'z_wangyi_youdaofanyi',\n",
       " 'z_wps_ppt']"
      ]
     },
     "execution_count": 144,
     "metadata": {},
     "output_type": "execute_result"
    }
   ],
   "source": [
    "indexes = data[:, dt.count(), dt.by(dt.f.index)][:, dt.f.index].to_list()[0]\n",
    "indexes"
   ]
  },
  {
   "cell_type": "code",
   "execution_count": 145,
   "metadata": {},
   "outputs": [],
   "source": [
    "# import collections\n",
    "\n",
    "# vc = []\n",
    "# events = [\"ProcessStart\", \"ProcessEnd\", \"ThreadStart\", \"ThreadEnd\", \"ImageLoad\", \"FileIOWrite\", \"FileIORead\", \"FileIOFileCreate\", \"FileIORename\", \"FileIOCreate\", \"FileIOCleanup\", \"FileIOClose\", \"FileIODelete\", \"FileIOFileDelete\", \"RegistryCreate\", \"RegistrySetValue\", \"RegistryOpen\", \"RegistryDelete\", \"RegistrySetInformation\", \"RegistryQuery\", \"RegistryQueryValue\", \"CallStack\"]\n",
    "# counter = collections.defaultdict(list)\n",
    "# for index in indexes:\n",
    "#     counter[\"esindex\"].append(index)\n",
    "#     df = data[(dt.f.index == index) & (df[\"label\"] == 1), :].to_pandas()\n",
    "#     first = df.index[df['pred'] == 1].min()\n",
    "\n",
    "#     if np.isnan(first): first = len(df)\n",
    "#     for event in events:\n",
    "#         ddf = df[\"channel\"].apply(lambda x: x.count(event)).sum()\n",
    "#         counter[event + \"All\"].append(ddf)\n",
    "#     df = df.iloc[:first]\n",
    "#     for event in events:\n",
    "#         ddf = df[\"channel\"].apply(lambda x: x.count(event)).sum()\n",
    "#         counter[event].append(ddf)\n",
    "    "
   ]
  },
  {
   "cell_type": "code",
   "execution_count": 148,
   "metadata": {},
   "outputs": [
    {
     "name": "stderr",
     "output_type": "stream",
     "text": [
      "/tmp/ipykernel_17730/3480114366.py:11: UserWarning: Boolean Series key will be reindexed to match DataFrame index.\n",
      "  df = df.iloc[:first][(df[\"label\"] == 0) & (df['pred'] == 1)]\n",
      "/tmp/ipykernel_17730/3480114366.py:11: UserWarning: Boolean Series key will be reindexed to match DataFrame index.\n",
      "  df = df.iloc[:first][(df[\"label\"] == 0) & (df['pred'] == 1)]\n",
      "/tmp/ipykernel_17730/3480114366.py:11: UserWarning: Boolean Series key will be reindexed to match DataFrame index.\n",
      "  df = df.iloc[:first][(df[\"label\"] == 0) & (df['pred'] == 1)]\n",
      "/tmp/ipykernel_17730/3480114366.py:11: UserWarning: Boolean Series key will be reindexed to match DataFrame index.\n",
      "  df = df.iloc[:first][(df[\"label\"] == 0) & (df['pred'] == 1)]\n",
      "/tmp/ipykernel_17730/3480114366.py:11: UserWarning: Boolean Series key will be reindexed to match DataFrame index.\n",
      "  df = df.iloc[:first][(df[\"label\"] == 0) & (df['pred'] == 1)]\n",
      "/tmp/ipykernel_17730/3480114366.py:11: UserWarning: Boolean Series key will be reindexed to match DataFrame index.\n",
      "  df = df.iloc[:first][(df[\"label\"] == 0) & (df['pred'] == 1)]\n",
      "/tmp/ipykernel_17730/3480114366.py:11: UserWarning: Boolean Series key will be reindexed to match DataFrame index.\n",
      "  df = df.iloc[:first][(df[\"label\"] == 0) & (df['pred'] == 1)]\n",
      "/tmp/ipykernel_17730/3480114366.py:11: UserWarning: Boolean Series key will be reindexed to match DataFrame index.\n",
      "  df = df.iloc[:first][(df[\"label\"] == 0) & (df['pred'] == 1)]\n",
      "/tmp/ipykernel_17730/3480114366.py:11: UserWarning: Boolean Series key will be reindexed to match DataFrame index.\n",
      "  df = df.iloc[:first][(df[\"label\"] == 0) & (df['pred'] == 1)]\n",
      "/tmp/ipykernel_17730/3480114366.py:11: UserWarning: Boolean Series key will be reindexed to match DataFrame index.\n",
      "  df = df.iloc[:first][(df[\"label\"] == 0) & (df['pred'] == 1)]\n",
      "/tmp/ipykernel_17730/3480114366.py:11: UserWarning: Boolean Series key will be reindexed to match DataFrame index.\n",
      "  df = df.iloc[:first][(df[\"label\"] == 0) & (df['pred'] == 1)]\n",
      "/tmp/ipykernel_17730/3480114366.py:11: UserWarning: Boolean Series key will be reindexed to match DataFrame index.\n",
      "  df = df.iloc[:first][(df[\"label\"] == 0) & (df['pred'] == 1)]\n",
      "/tmp/ipykernel_17730/3480114366.py:11: UserWarning: Boolean Series key will be reindexed to match DataFrame index.\n",
      "  df = df.iloc[:first][(df[\"label\"] == 0) & (df['pred'] == 1)]\n",
      "/tmp/ipykernel_17730/3480114366.py:11: UserWarning: Boolean Series key will be reindexed to match DataFrame index.\n",
      "  df = df.iloc[:first][(df[\"label\"] == 0) & (df['pred'] == 1)]\n",
      "/tmp/ipykernel_17730/3480114366.py:11: UserWarning: Boolean Series key will be reindexed to match DataFrame index.\n",
      "  df = df.iloc[:first][(df[\"label\"] == 0) & (df['pred'] == 1)]\n",
      "/tmp/ipykernel_17730/3480114366.py:11: UserWarning: Boolean Series key will be reindexed to match DataFrame index.\n",
      "  df = df.iloc[:first][(df[\"label\"] == 0) & (df['pred'] == 1)]\n",
      "/tmp/ipykernel_17730/3480114366.py:11: UserWarning: Boolean Series key will be reindexed to match DataFrame index.\n",
      "  df = df.iloc[:first][(df[\"label\"] == 0) & (df['pred'] == 1)]\n",
      "/tmp/ipykernel_17730/3480114366.py:11: UserWarning: Boolean Series key will be reindexed to match DataFrame index.\n",
      "  df = df.iloc[:first][(df[\"label\"] == 0) & (df['pred'] == 1)]\n",
      "/tmp/ipykernel_17730/3480114366.py:11: UserWarning: Boolean Series key will be reindexed to match DataFrame index.\n",
      "  df = df.iloc[:first][(df[\"label\"] == 0) & (df['pred'] == 1)]\n",
      "/tmp/ipykernel_17730/3480114366.py:11: UserWarning: Boolean Series key will be reindexed to match DataFrame index.\n",
      "  df = df.iloc[:first][(df[\"label\"] == 0) & (df['pred'] == 1)]\n",
      "/tmp/ipykernel_17730/3480114366.py:11: UserWarning: Boolean Series key will be reindexed to match DataFrame index.\n",
      "  df = df.iloc[:first][(df[\"label\"] == 0) & (df['pred'] == 1)]\n",
      "/tmp/ipykernel_17730/3480114366.py:11: UserWarning: Boolean Series key will be reindexed to match DataFrame index.\n",
      "  df = df.iloc[:first][(df[\"label\"] == 0) & (df['pred'] == 1)]\n",
      "/tmp/ipykernel_17730/3480114366.py:11: UserWarning: Boolean Series key will be reindexed to match DataFrame index.\n",
      "  df = df.iloc[:first][(df[\"label\"] == 0) & (df['pred'] == 1)]\n",
      "/tmp/ipykernel_17730/3480114366.py:11: UserWarning: Boolean Series key will be reindexed to match DataFrame index.\n",
      "  df = df.iloc[:first][(df[\"label\"] == 0) & (df['pred'] == 1)]\n",
      "/tmp/ipykernel_17730/3480114366.py:11: UserWarning: Boolean Series key will be reindexed to match DataFrame index.\n",
      "  df = df.iloc[:first][(df[\"label\"] == 0) & (df['pred'] == 1)]\n",
      "/tmp/ipykernel_17730/3480114366.py:11: UserWarning: Boolean Series key will be reindexed to match DataFrame index.\n",
      "  df = df.iloc[:first][(df[\"label\"] == 0) & (df['pred'] == 1)]\n",
      "/tmp/ipykernel_17730/3480114366.py:11: UserWarning: Boolean Series key will be reindexed to match DataFrame index.\n",
      "  df = df.iloc[:first][(df[\"label\"] == 0) & (df['pred'] == 1)]\n",
      "/tmp/ipykernel_17730/3480114366.py:11: UserWarning: Boolean Series key will be reindexed to match DataFrame index.\n",
      "  df = df.iloc[:first][(df[\"label\"] == 0) & (df['pred'] == 1)]\n",
      "/tmp/ipykernel_17730/3480114366.py:11: UserWarning: Boolean Series key will be reindexed to match DataFrame index.\n",
      "  df = df.iloc[:first][(df[\"label\"] == 0) & (df['pred'] == 1)]\n",
      "/tmp/ipykernel_17730/3480114366.py:11: UserWarning: Boolean Series key will be reindexed to match DataFrame index.\n",
      "  df = df.iloc[:first][(df[\"label\"] == 0) & (df['pred'] == 1)]\n",
      "/tmp/ipykernel_17730/3480114366.py:11: UserWarning: Boolean Series key will be reindexed to match DataFrame index.\n",
      "  df = df.iloc[:first][(df[\"label\"] == 0) & (df['pred'] == 1)]\n",
      "/tmp/ipykernel_17730/3480114366.py:11: UserWarning: Boolean Series key will be reindexed to match DataFrame index.\n",
      "  df = df.iloc[:first][(df[\"label\"] == 0) & (df['pred'] == 1)]\n",
      "/tmp/ipykernel_17730/3480114366.py:11: UserWarning: Boolean Series key will be reindexed to match DataFrame index.\n",
      "  df = df.iloc[:first][(df[\"label\"] == 0) & (df['pred'] == 1)]\n",
      "/tmp/ipykernel_17730/3480114366.py:11: UserWarning: Boolean Series key will be reindexed to match DataFrame index.\n",
      "  df = df.iloc[:first][(df[\"label\"] == 0) & (df['pred'] == 1)]\n",
      "/tmp/ipykernel_17730/3480114366.py:11: UserWarning: Boolean Series key will be reindexed to match DataFrame index.\n",
      "  df = df.iloc[:first][(df[\"label\"] == 0) & (df['pred'] == 1)]\n",
      "/tmp/ipykernel_17730/3480114366.py:11: UserWarning: Boolean Series key will be reindexed to match DataFrame index.\n",
      "  df = df.iloc[:first][(df[\"label\"] == 0) & (df['pred'] == 1)]\n",
      "/tmp/ipykernel_17730/3480114366.py:11: UserWarning: Boolean Series key will be reindexed to match DataFrame index.\n",
      "  df = df.iloc[:first][(df[\"label\"] == 0) & (df['pred'] == 1)]\n",
      "/tmp/ipykernel_17730/3480114366.py:11: UserWarning: Boolean Series key will be reindexed to match DataFrame index.\n",
      "  df = df.iloc[:first][(df[\"label\"] == 0) & (df['pred'] == 1)]\n",
      "/tmp/ipykernel_17730/3480114366.py:11: UserWarning: Boolean Series key will be reindexed to match DataFrame index.\n",
      "  df = df.iloc[:first][(df[\"label\"] == 0) & (df['pred'] == 1)]\n",
      "/tmp/ipykernel_17730/3480114366.py:11: UserWarning: Boolean Series key will be reindexed to match DataFrame index.\n",
      "  df = df.iloc[:first][(df[\"label\"] == 0) & (df['pred'] == 1)]\n",
      "/tmp/ipykernel_17730/3480114366.py:11: UserWarning: Boolean Series key will be reindexed to match DataFrame index.\n",
      "  df = df.iloc[:first][(df[\"label\"] == 0) & (df['pred'] == 1)]\n",
      "/tmp/ipykernel_17730/3480114366.py:11: UserWarning: Boolean Series key will be reindexed to match DataFrame index.\n",
      "  df = df.iloc[:first][(df[\"label\"] == 0) & (df['pred'] == 1)]\n",
      "/tmp/ipykernel_17730/3480114366.py:11: UserWarning: Boolean Series key will be reindexed to match DataFrame index.\n",
      "  df = df.iloc[:first][(df[\"label\"] == 0) & (df['pred'] == 1)]\n",
      "/tmp/ipykernel_17730/3480114366.py:11: UserWarning: Boolean Series key will be reindexed to match DataFrame index.\n",
      "  df = df.iloc[:first][(df[\"label\"] == 0) & (df['pred'] == 1)]\n",
      "/tmp/ipykernel_17730/3480114366.py:11: UserWarning: Boolean Series key will be reindexed to match DataFrame index.\n",
      "  df = df.iloc[:first][(df[\"label\"] == 0) & (df['pred'] == 1)]\n",
      "/tmp/ipykernel_17730/3480114366.py:11: UserWarning: Boolean Series key will be reindexed to match DataFrame index.\n",
      "  df = df.iloc[:first][(df[\"label\"] == 0) & (df['pred'] == 1)]\n",
      "/tmp/ipykernel_17730/3480114366.py:11: UserWarning: Boolean Series key will be reindexed to match DataFrame index.\n",
      "  df = df.iloc[:first][(df[\"label\"] == 0) & (df['pred'] == 1)]\n",
      "/tmp/ipykernel_17730/3480114366.py:11: UserWarning: Boolean Series key will be reindexed to match DataFrame index.\n",
      "  df = df.iloc[:first][(df[\"label\"] == 0) & (df['pred'] == 1)]\n"
     ]
    },
    {
     "name": "stdout",
     "output_type": "stream",
     "text": [
      "88230\n"
     ]
    },
    {
     "name": "stderr",
     "output_type": "stream",
     "text": [
      "/tmp/ipykernel_17730/3480114366.py:11: UserWarning: Boolean Series key will be reindexed to match DataFrame index.\n",
      "  df = df.iloc[:first][(df[\"label\"] == 0) & (df['pred'] == 1)]\n"
     ]
    }
   ],
   "source": [
    "import collections\n",
    "\n",
    "events = [\"ProcessStart\", \"ProcessEnd\", \"ThreadStart\", \"ThreadEnd\", \"ImageLoad\", \"FileIOWrite\", \"FileIORead\", \"FileIOFileCreate\", \"FileIORename\", \"FileIOCreate\", \"FileIOCleanup\", \"FileIOClose\", \"FileIODelete\", \"FileIOFileDelete\", \"RegistryCreate\", \"RegistrySetValue\", \"RegistryOpen\", \"RegistryDelete\", \"RegistrySetInformation\", \"RegistryQuery\", \"RegistryQueryValue\", \"CallStack\"]\n",
    "counter = 0\n",
    "for index in indexes:\n",
    "    if not index.startswith(\"k\"): continue\n",
    "    df = data[(dt.f.index == index), :].to_pandas()\n",
    "    first = df.index[(df['pred'] == 1) & (df[\"label\"] == 1)].min()\n",
    "\n",
    "    if np.isnan(first): first = len(df)\n",
    "    df = df.iloc[:first][(df[\"label\"] == 0) & (df['pred'] == 1)]\n",
    "    for event in events:\n",
    "        ddf = df[\"channel\"].apply(lambda x: x.count(event)).sum()\n",
    "        counter += ddf\n",
    "print(counter)\n",
    "    "
   ]
  },
  {
   "cell_type": "code",
   "execution_count": 147,
   "metadata": {},
   "outputs": [],
   "source": [
    "# df = pd.DataFrame(counter)\n",
    "# df.to_csv(\"timeliness.csv\", index=False, sep=\"\\t\")"
   ]
  }
 ],
 "metadata": {
  "kernelspec": {
   "display_name": "torch",
   "language": "python",
   "name": "python3"
  },
  "language_info": {
   "codemirror_mode": {
    "name": "ipython",
    "version": 3
   },
   "file_extension": ".py",
   "mimetype": "text/x-python",
   "name": "python",
   "nbconvert_exporter": "python",
   "pygments_lexer": "ipython3",
   "version": "3.8.10"
  }
 },
 "nbformat": 4,
 "nbformat_minor": 2
}
