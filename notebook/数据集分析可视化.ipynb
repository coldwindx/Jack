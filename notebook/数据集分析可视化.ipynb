{
 "cells": [
  {
   "cell_type": "code",
   "execution_count": 1,
   "metadata": {},
   "outputs": [
    {
     "data": {
      "text/html": [
       "<style type='text/css'>\n",
       ".datatable table.frame { margin-bottom: 0; }\n",
       ".datatable table.frame thead { border-bottom: none; }\n",
       ".datatable table.frame tr.coltypes td {  color: #FFFFFF;  line-height: 6px;  padding: 0 0.5em;}\n",
       ".datatable .bool    { background: #DDDD99; }\n",
       ".datatable .object  { background: #565656; }\n",
       ".datatable .int     { background: #5D9E5D; }\n",
       ".datatable .float   { background: #4040CC; }\n",
       ".datatable .str     { background: #CC4040; }\n",
       ".datatable .time    { background: #40CC40; }\n",
       ".datatable .row_index {  background: var(--jp-border-color3);  border-right: 1px solid var(--jp-border-color0);  color: var(--jp-ui-font-color3);  font-size: 9px;}\n",
       ".datatable .frame tbody td { text-align: left; }\n",
       ".datatable .frame tr.coltypes .row_index {  background: var(--jp-border-color0);}\n",
       ".datatable th:nth-child(2) { padding-left: 12px; }\n",
       ".datatable .hellipsis {  color: var(--jp-cell-editor-border-color);}\n",
       ".datatable .vellipsis {  background: var(--jp-layout-color0);  color: var(--jp-cell-editor-border-color);}\n",
       ".datatable .na {  color: var(--jp-cell-editor-border-color);  font-size: 80%;}\n",
       ".datatable .sp {  opacity: 0.25;}\n",
       ".datatable .footer { font-size: 9px; }\n",
       ".datatable .frame_dimensions {  background: var(--jp-border-color3);  border-top: 1px solid var(--jp-border-color0);  color: var(--jp-ui-font-color3);  display: inline-block;  opacity: 0.6;  padding: 1px 10px 1px 5px;}\n",
       "</style>\n"
      ],
      "text/plain": [
       "<IPython.core.display.HTML object>"
      ]
     },
     "metadata": {},
     "output_type": "display_data"
    }
   ],
   "source": [
    "import os\n",
    "import sys\n",
    "import datatable as dt\n",
    "\n",
    "sys.path.append(os.path.abspath(os.path.join(os.getcwd(), os.pardir)))  \n",
    "\n",
    "args = {\n",
    "    \"pretrain\": '/home/zhulin/pretrain/bert_pretrain_uncased/',\n",
    "    \"model\": \"./SingleChannelPredictor.pt\",\n",
    "    \"dataset\": \"/home/zhulin/datasets/cdatasets.test.5.csv\",\n",
    "    \"tfidf\": \"../common/tfidf.ph\"\n",
    "}\n"
   ]
  },
  {
   "cell_type": "code",
   "execution_count": 5,
   "metadata": {},
   "outputs": [
    {
     "data": {
      "text/html": [
       "<div class='datatable'>\n",
       "  <table class='frame'>\n",
       "  <thead>\n",
       "    <tr class='colnames'><td class='row_index'></td><th>C0</th><th>channel</th><th>index</th><th>label</th><th>pid</th><th>pname</th><th>unique_key</th><th>family</th><th>total</th></tr>\n",
       "    <tr class='coltypes'><td class='row_index'></td><td class='int' title='int32'>&#x25AA;&#x25AA;&#x25AA;&#x25AA;</td><td class='str' title='str32'>&#x25AA;&#x25AA;&#x25AA;&#x25AA;</td><td class='str' title='str32'>&#x25AA;&#x25AA;&#x25AA;&#x25AA;</td><td class='bool' title='bool8'>&#x25AA;</td><td class='int' title='int32'>&#x25AA;&#x25AA;&#x25AA;&#x25AA;</td><td class='str' title='str32'>&#x25AA;&#x25AA;&#x25AA;&#x25AA;</td><td class='int' title='int64'>&#x25AA;&#x25AA;&#x25AA;&#x25AA;&#x25AA;&#x25AA;&#x25AA;&#x25AA;</td><td class='str' title='str32'>&#x25AA;&#x25AA;&#x25AA;&#x25AA;</td><td class='int' title='int32'>&#x25AA;&#x25AA;&#x25AA;&#x25AA;</td></tr>\n",
       "  </thead>\n",
       "  <tbody>\n",
       "    <tr><td class='row_index'>0</td><td>0</td><td>RegistryOpen \\Registry\\Machine\\Software\\Policies\\Microsoft\\SQMClient\\Windows RegistryOpen \\Registry\\&#133;</td><td>kad29f77ee86ed9827158347befa8998d</td><td>0</td><td>2868</td><td>explorer.exe</td><td>&minus;1</td><td>Makop</td><td>8</td></tr>\n",
       "    <tr><td class='row_index'>1</td><td>1</td><td>FileIORead C:\\Users\\Administrator\\AppData\\Roaming\\Microsoft\\Windows\\Themes\\CachedFiles\\CachedImage_1&#133;</td><td>kad29f77ee86ed9827158347befa8998d</td><td>0</td><td>2868</td><td>explorer.exe</td><td>&minus;1</td><td>Makop</td><td>16</td></tr>\n",
       "    <tr><td class='row_index'>2</td><td>2</td><td>RegistryQueryValue DisplayVersion RegistryOpen Software\\Microsoft\\Windows NT\\CurrentVersion\\Windows &#133;</td><td>kad29f77ee86ed9827158347befa8998d</td><td>0</td><td>2868</td><td>explorer.exe</td><td>&minus;1</td><td>Makop</td><td>24</td></tr>\n",
       "  </tbody>\n",
       "  </table>\n",
       "  <div class='footer'>\n",
       "    <div class='frame_dimensions'>3 rows &times; 9 columns</div>\n",
       "  </div>\n",
       "</div>\n"
      ],
      "text/plain": [
       "<Frame#7ff9c40480f0 3x9>"
      ]
     },
     "execution_count": 5,
     "metadata": {},
     "output_type": "execute_result"
    }
   ],
   "source": [
    "data1 = dt.fread(\"/home/zhulin/datasets/cdatasets.train.5.csv\", fill=True)\n",
    "data2 = dt.fread(\"/home/zhulin/datasets/cdatasets.test.5.csv\", fill=True)\n",
    "data = dt.rbind(data1, data2, force=True)\n",
    "data2.head(3)"
   ]
  },
  {
   "cell_type": "code",
   "execution_count": 40,
   "metadata": {},
   "outputs": [
    {
     "data": {
      "text/html": [
       "<div>\n",
       "<style scoped>\n",
       "    .dataframe tbody tr th:only-of-type {\n",
       "        vertical-align: middle;\n",
       "    }\n",
       "\n",
       "    .dataframe tbody tr th {\n",
       "        vertical-align: top;\n",
       "    }\n",
       "\n",
       "    .dataframe thead th {\n",
       "        text-align: right;\n",
       "    }\n",
       "</style>\n",
       "<table border=\"1\" class=\"dataframe\">\n",
       "  <thead>\n",
       "    <tr style=\"text-align: right;\">\n",
       "      <th></th>\n",
       "      <th>index</th>\n",
       "      <th>count</th>\n",
       "      <th>family</th>\n",
       "      <th>datasettype</th>\n",
       "    </tr>\n",
       "  </thead>\n",
       "  <tbody>\n",
       "    <tr>\n",
       "      <th>0</th>\n",
       "      <td>k00e3b3952d6cfe18aba4554a034f8e55</td>\n",
       "      <td>46020</td>\n",
       "      <td>Cerber</td>\n",
       "      <td>test</td>\n",
       "    </tr>\n",
       "    <tr>\n",
       "      <th>1</th>\n",
       "      <td>k024382eef9abab8edd804548f94b78fc</td>\n",
       "      <td>7335</td>\n",
       "      <td>Babuk</td>\n",
       "      <td>train</td>\n",
       "    </tr>\n",
       "    <tr>\n",
       "      <th>2</th>\n",
       "      <td>k04ad1d87185dddc361183349a1422bb9</td>\n",
       "      <td>67700</td>\n",
       "      <td>Conti</td>\n",
       "      <td>train</td>\n",
       "    </tr>\n",
       "    <tr>\n",
       "      <th>3</th>\n",
       "      <td>k04c8bb7931e16af4c3d5269362d07544</td>\n",
       "      <td>93765</td>\n",
       "      <td>GlobeImposter</td>\n",
       "      <td>train</td>\n",
       "    </tr>\n",
       "    <tr>\n",
       "      <th>4</th>\n",
       "      <td>k05a9d84adb552bfe6590b4f3d6f9a970</td>\n",
       "      <td>74805</td>\n",
       "      <td>Makop</td>\n",
       "      <td>train</td>\n",
       "    </tr>\n",
       "    <tr>\n",
       "      <th>...</th>\n",
       "      <td>...</td>\n",
       "      <td>...</td>\n",
       "      <td>...</td>\n",
       "      <td>...</td>\n",
       "    </tr>\n",
       "    <tr>\n",
       "      <th>215</th>\n",
       "      <td>z_xiangrikui</td>\n",
       "      <td>29619</td>\n",
       "      <td>Normal</td>\n",
       "      <td>train</td>\n",
       "    </tr>\n",
       "    <tr>\n",
       "      <th>216</th>\n",
       "      <td>z_xiangrikui_yuanchengkongzhi</td>\n",
       "      <td>10408</td>\n",
       "      <td>Normal</td>\n",
       "      <td>train</td>\n",
       "    </tr>\n",
       "    <tr>\n",
       "      <th>217</th>\n",
       "      <td>z_xmind</td>\n",
       "      <td>12727</td>\n",
       "      <td>Normal</td>\n",
       "      <td>train</td>\n",
       "    </tr>\n",
       "    <tr>\n",
       "      <th>218</th>\n",
       "      <td>z_xunlei</td>\n",
       "      <td>30277</td>\n",
       "      <td>Normal</td>\n",
       "      <td>train</td>\n",
       "    </tr>\n",
       "    <tr>\n",
       "      <th>219</th>\n",
       "      <td>z_yueshupdf</td>\n",
       "      <td>25941</td>\n",
       "      <td>Normal</td>\n",
       "      <td>train</td>\n",
       "    </tr>\n",
       "  </tbody>\n",
       "</table>\n",
       "<p>220 rows × 4 columns</p>\n",
       "</div>"
      ],
      "text/plain": [
       "                                 index  count         family datasettype\n",
       "0    k00e3b3952d6cfe18aba4554a034f8e55  46020         Cerber        test\n",
       "1    k024382eef9abab8edd804548f94b78fc   7335          Babuk       train\n",
       "2    k04ad1d87185dddc361183349a1422bb9  67700          Conti       train\n",
       "3    k04c8bb7931e16af4c3d5269362d07544  93765  GlobeImposter       train\n",
       "4    k05a9d84adb552bfe6590b4f3d6f9a970  74805          Makop       train\n",
       "..                                 ...    ...            ...         ...\n",
       "215                       z_xiangrikui  29619         Normal       train\n",
       "216      z_xiangrikui_yuanchengkongzhi  10408         Normal       train\n",
       "217                            z_xmind  12727         Normal       train\n",
       "218                           z_xunlei  30277         Normal       train\n",
       "219                        z_yueshupdf  25941         Normal       train\n",
       "\n",
       "[220 rows x 4 columns]"
      ]
     },
     "execution_count": 40,
     "metadata": {},
     "output_type": "execute_result"
    }
   ],
   "source": [
    "df_count = data[:,{\"count\": dt.count()},dt.by(dt.f.index)].to_pandas()\n",
    "df_family = dt.fread(\"../common/family.csv\", fill=True).to_pandas()\n",
    "df_family.rename(columns={\"esindex\": \"index\"}, inplace=True)\n",
    "df = df_count.merge(df_family, on=\"index\")\n",
    "df"
   ]
  },
  {
   "cell_type": "code",
   "execution_count": 7,
   "metadata": {},
   "outputs": [
    {
     "name": "stdout",
     "output_type": "stream",
     "text": [
      "[('4n6r3q45r11onr69o64sp879400spqo6', 15.998609205110881), ('iffnqzva', 15.998609205110881), ('bcdenumerateelementswithflags', 15.998609205110881), ('a0f17bb0', 15.998609205110881), ('f00aded4c16c0e8c3b5adfc23d19c', 15.998609205110881), ('cac63821', 15.998609205110881), ('6954689', 15.998609205110881), ('sqlexecute', 15.998609205110881), ('b99c2748e46c0f8ed8da08fd933e0', 15.998609205110881), ('6663f6be', 15.998609205110881), ('69499cd8', 15.998609205110881), ('220ff103f2ba', 15.998609205110881), ('e7bf9efcb13b3e01968c7aa7d62e9ce2', 15.998609205110881), ('5dffab75f1d3d2881e7f1217272ecf4d', 15.998609205110881), ('47888d5d', 15.998609205110881), ('33f2', 15.998609205110881), ('9f5d', 15.998609205110881), ('6c575bbf59b3', 15.998609205110881), ('788', 15.998609205110881), ('a53cdc88dbeda586', 15.998609205110881), ('bootckcl', 15.998609205110881), ('1712', 15.998609205110881), ('3a00c9a3', 15.998609205110881), ('sdbformatattribute', 15.998609205110881), ('evtrender', 15.998609205110881), ('evtcreaterendercontext', 15.998609205110881), ('evtopenchannelconfig', 15.998609205110881), ('evtcancel', 15.998609205110881), ('54849625', 15.998609205110881), ('a5ba', 15.998609205110881), ('3e3b0328c30d', 15.998609205110881), ('8939299f', 15.998609205110881), ('4c5c', 15.998609205110881), ('abb86aa0627d', 15.998609205110881), ('9988748e', 15.998609205110881), ('c2e8', 15.998609205110881), ('85f6', 15.998609205110881), ('0c3e1cad2470', 15.998609205110881), ('a68ca8b7', 15.998609205110881), ('004f', 15.998609205110881), ('d7b6', 15.998609205110881), ('07e2de0f1f5d', 15.998609205110881), ('f3c5e28e', 15.998609205110881), ('63f6', 15.998609205110881), ('a204', 15.998609205110881), ('e48a1bc4b09d', 15.998609205110881), ('ef1cc15b', 15.998609205110881), ('e76b077bd51e', 15.998609205110881), ('enablelevel', 15.998609205110881), ('warninglevel', 15.998609205110881), ('9a864294', 15.998609205110881), ('624dbbbd', 15.998609205110881), ('4n5p9r93r3poo0nq7p7083os09925nop', 15.998609205110881), ('f72d3eb3', 15.998609205110881), ('pdhgetdatasourcetimerangeh', 15.998609205110881), ('disablereauthwithsmb2dc', 15.998609205110881), ('enablecachingonwriteonlyopens', 15.998609205110881), ('directorycachelifetime', 15.998609205110881), ('filenotfoundcacheentriesmax', 15.998609205110881), ('connectioncountpernetworkinterface', 15.998609205110881), ('servertransportinfotimeout', 15.998609205110881), ('dormantdirectorytimeout', 15.998609205110881), ('collectsessionstatistics', 15.998609205110881), ('disablecaretryoninitialconnect', 15.998609205110881), ('multichannelconstraint', 15.998609205110881), ('requiresecuritysignature', 15.998609205110881), ('fileinfocachelifetime', 15.998609205110881), ('disablelargemtu', 15.998609205110881), ('fileinfocacheentriesmax', 15.998609205110881), ('disablemultichannel', 15.998609205110881), ('connectioncountperrdmanetworkinterface', 15.998609205110881), ('rdmareadthreshold', 15.998609205110881), ('requiresecurenegotiate', 15.998609205110881), ('debugmaxsmb2dialect', 15.998609205110881), ('iotimeoutforcashare', 15.998609205110881), ('allowguestauthwhensigningrequired', 15.998609205110881), ('maxnumofexchangesforpipelinereadwrite', 15.998609205110881), ('filenotfoundcachelifetime', 15.998609205110881), ('disableresilienthandles', 15.998609205110881), ('directorycacheentriesmax', 15.998609205110881), ('windowsizethreshold', 15.998609205110881), ('maximumconnectioncountperserver', 15.998609205110881), ('rdmawritethreshold', 15.998609205110881), ('rdmachannelselectwindowsizethreshold', 15.998609205110881), ('debugminsmb2dialect', 15.998609205110881), ('enforcesecureauthwithdc', 15.998609205110881), ('disablebyterangelockingonreadonlyfiles', 15.998609205110881), ('disablebandwidththrottling', 15.998609205110881), ('offlinefiletimeoutintervalinseconds', 15.998609205110881), ('directorycacheentrysizemax', 15.998609205110881), ('connectioncountperrssnetworkinterface', 15.998609205110881), ('readaheadgranularity', 15.998609205110881), ('enablenetbtforsmb2', 15.998609205110881), ('859', 15.998609205110881), ('58492', 15.998609205110881), ('58524', 15.998609205110881), ('58520', 15.998609205110881), ('58560', 15.998609205110881), ('58572', 15.998609205110881), ('58496', 15.998609205110881)]\n"
     ]
    }
   ],
   "source": [
    "import matplotlib.pyplot as plt\n",
    "import numpy as np\n",
    "\n",
    "df = df[df[\"family\"] != \"Normal\"]\n",
    "families = df[\"family\"].to\n",
    "\n",
    "\n",
    "species = (\"Adelie\", \"Chinstrap\", \"Gentoo\")\n",
    "penguin_means = {\n",
    "    'Bill Depth': (18.35, 18.43, 14.98),\n",
    "    'Bill Length': (38.79, 48.83, 47.50),\n",
    "    'Flipper Length': (189.95, 195.82, 217.19),\n",
    "}\n",
    "\n",
    "x = np.arange(len(species))  # the label locations\n",
    "width = 0.25  # the width of the bars\n",
    "multiplier = 0\n",
    "\n",
    "fig, ax = plt.subplots(layout='constrained')\n",
    "\n",
    "for attribute, measurement in penguin_means.items():\n",
    "    offset = width * multiplier\n",
    "    rects = ax.bar(x + offset, measurement, width, label=attribute)\n",
    "    ax.bar_label(rects, padding=3)\n",
    "    multiplier += 1\n",
    "\n",
    "# Add some text for labels, title and custom x-axis tick labels, etc.\n",
    "ax.set_ylabel('Length (mm)')\n",
    "ax.set_title('Penguin attributes by species')\n",
    "ax.set_xticks(x + width, species)\n",
    "ax.legend(loc='upper left', ncols=3)\n",
    "ax.set_ylim(0, 250)\n",
    "\n",
    "plt.show()"
   ]
  }
 ],
 "metadata": {
  "kernelspec": {
   "display_name": "torch",
   "language": "python",
   "name": "python3"
  },
  "language_info": {
   "codemirror_mode": {
    "name": "ipython",
    "version": 3
   },
   "file_extension": ".py",
   "mimetype": "text/x-python",
   "name": "python",
   "nbconvert_exporter": "python",
   "pygments_lexer": "ipython3",
   "version": "3.8.10"
  }
 },
 "nbformat": 4,
 "nbformat_minor": 2
}
