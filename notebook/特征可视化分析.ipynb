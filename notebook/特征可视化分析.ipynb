{
 "cells": [
  {
   "cell_type": "code",
   "execution_count": 1,
   "metadata": {},
   "outputs": [
    {
     "name": "stderr",
     "output_type": "stream",
     "text": [
      "/home/zhulin/anaconda3/envs/torch/lib/python3.8/site-packages/tqdm/auto.py:21: TqdmWarning: IProgress not found. Please update jupyter and ipywidgets. See https://ipywidgets.readthedocs.io/en/stable/user_install.html\n",
      "  from .autonotebook import tqdm as notebook_tqdm\n"
     ]
    }
   ],
   "source": [
    "import os\n",
    "import sys\n",
    "import torch\n",
    "from transformers import BertTokenizer\n",
    "import lightning as pl"
   ]
  },
  {
   "cell_type": "code",
   "execution_count": 2,
   "metadata": {},
   "outputs": [
    {
     "data": {
      "text/plain": [
       "'/home/zhulin/workspace/Jack'"
      ]
     },
     "execution_count": 2,
     "metadata": {},
     "output_type": "execute_result"
    }
   ],
   "source": [
    "sys.path.append(os.path.abspath(os.path.join(os.getcwd(), os.pardir)))  \n",
    "os.path.abspath(os.path.join(os.getcwd(), os.pardir))"
   ]
  },
  {
   "cell_type": "code",
   "execution_count": 3,
   "metadata": {},
   "outputs": [
    {
     "name": "stderr",
     "output_type": "stream",
     "text": [
      "Seed set to 42\n"
     ]
    }
   ],
   "source": [
    "pl.seed_everything(42, workers=True)\n",
    "torch.set_float32_matmul_precision(precision=\"high\")"
   ]
  },
  {
   "cell_type": "code",
   "execution_count": 4,
   "metadata": {},
   "outputs": [],
   "source": [
    "args = {\n",
    "    \"pretrain\": '/home/zhulin/pretrain/bert_pretrain_uncased/',\n",
    "    \"model\": \"/home/zhulin/models/single_channel_transformer.ckpt\",\n",
    "    \"dataset\": \"/home/zhulin/datasets/cdatasets.test.5.csv\"\n",
    "}"
   ]
  },
  {
   "cell_type": "code",
   "execution_count": 5,
   "metadata": {},
   "outputs": [],
   "source": [
    "### load model\n",
    "from core.predictor import SingleChannelPredictor\n",
    "tokenizer = BertTokenizer.from_pretrained(args[\"pretrain\"], use_fast=True)\n",
    "\n",
    "ckpt = torch.load(args[\"model\"])\n",
    "predictor = SingleChannelPredictor(**ckpt[\"hyper_parameters\"])\n",
    "predictor.load_state_dict(ckpt[\"state_dict\"])\n",
    "predictor = predictor.eval().cuda()"
   ]
  },
  {
   "cell_type": "code",
   "execution_count": 6,
   "metadata": {},
   "outputs": [
    {
     "name": "stdout",
     "output_type": "stream",
     "text": [
      "\n",
      "net\n",
      "net.input_net\n",
      "net.input_net.0\n",
      "net.input_net.1\n",
      "net.input_net.2\n",
      "net.positional_encoding\n",
      "net.transformer\n",
      "net.transformer.layers\n",
      "net.transformer.layers.0\n",
      "net.transformer.layers.0.attn\n",
      "net.transformer.layers.0.attn.qkv_proj\n",
      "net.transformer.layers.0.attn.o_proj\n",
      "net.transformer.layers.0.linear_net\n",
      "net.transformer.layers.0.linear_net.0\n",
      "net.transformer.layers.0.linear_net.1\n",
      "net.transformer.layers.0.linear_net.2\n",
      "net.transformer.layers.0.linear_net.3\n",
      "net.transformer.layers.0.norm1\n",
      "net.transformer.layers.0.norm2\n",
      "net.transformer.layers.0.dropout\n",
      "net.pooling_net\n",
      "net.output_net\n",
      "net.output_net.0\n",
      "net.output_net.1\n",
      "net.output_net.2\n",
      "net.output_net.3\n"
     ]
    }
   ],
   "source": [
    "for name, module in predictor.named_modules():\n",
    "    print(name)"
   ]
  },
  {
   "cell_type": "code",
   "execution_count": 7,
   "metadata": {},
   "outputs": [],
   "source": [
    "### load extractor\n",
    "from common.extractor import FeatureExtractor\n",
    "\n",
    "extractor = FeatureExtractor()\n",
    "extractor.register(predictor, [\n",
    "    \"net.input_net.0\",                      # nn.Embedding\n",
    "    \"net.input_net.2\",                      # nn.Linear\n",
    "    \"net.pooling_net\"                       # nn.MultiheadAttention\n",
    "])"
   ]
  },
  {
   "cell_type": "code",
   "execution_count": 8,
   "metadata": {},
   "outputs": [
    {
     "data": {
      "text/html": [
       "<style type='text/css'>\n",
       ".datatable table.frame { margin-bottom: 0; }\n",
       ".datatable table.frame thead { border-bottom: none; }\n",
       ".datatable table.frame tr.coltypes td {  color: #FFFFFF;  line-height: 6px;  padding: 0 0.5em;}\n",
       ".datatable .bool    { background: #DDDD99; }\n",
       ".datatable .object  { background: #565656; }\n",
       ".datatable .int     { background: #5D9E5D; }\n",
       ".datatable .float   { background: #4040CC; }\n",
       ".datatable .str     { background: #CC4040; }\n",
       ".datatable .time    { background: #40CC40; }\n",
       ".datatable .row_index {  background: var(--jp-border-color3);  border-right: 1px solid var(--jp-border-color0);  color: var(--jp-ui-font-color3);  font-size: 9px;}\n",
       ".datatable .frame tbody td { text-align: left; }\n",
       ".datatable .frame tr.coltypes .row_index {  background: var(--jp-border-color0);}\n",
       ".datatable th:nth-child(2) { padding-left: 12px; }\n",
       ".datatable .hellipsis {  color: var(--jp-cell-editor-border-color);}\n",
       ".datatable .vellipsis {  background: var(--jp-layout-color0);  color: var(--jp-cell-editor-border-color);}\n",
       ".datatable .na {  color: var(--jp-cell-editor-border-color);  font-size: 80%;}\n",
       ".datatable .sp {  opacity: 0.25;}\n",
       ".datatable .footer { font-size: 9px; }\n",
       ".datatable .frame_dimensions {  background: var(--jp-border-color3);  border-top: 1px solid var(--jp-border-color0);  color: var(--jp-ui-font-color3);  display: inline-block;  opacity: 0.6;  padding: 1px 10px 1px 5px;}\n",
       "</style>\n"
      ],
      "text/plain": [
       "<IPython.core.display.HTML object>"
      ]
     },
     "metadata": {},
     "output_type": "display_data"
    },
    {
     "data": {
      "text/html": [
       "<div class='datatable'>\n",
       "  <table class='frame'>\n",
       "  <thead>\n",
       "    <tr class='colnames'><td class='row_index'></td><th>C0</th><th>channel</th><th>index</th><th>label</th><th>pid</th><th>pname</th><th>unique_key</th></tr>\n",
       "    <tr class='coltypes'><td class='row_index'></td><td class='int' title='int32'>&#x25AA;&#x25AA;&#x25AA;&#x25AA;</td><td class='str' title='str64'>&#x25AA;&#x25AA;&#x25AA;&#x25AA;&#x25AA;&#x25AA;&#x25AA;&#x25AA;</td><td class='str' title='str32'>&#x25AA;&#x25AA;&#x25AA;&#x25AA;</td><td class='bool' title='bool8'>&#x25AA;</td><td class='int' title='int32'>&#x25AA;&#x25AA;&#x25AA;&#x25AA;</td><td class='str' title='str32'>&#x25AA;&#x25AA;&#x25AA;&#x25AA;</td><td class='int' title='int64'>&#x25AA;&#x25AA;&#x25AA;&#x25AA;&#x25AA;&#x25AA;&#x25AA;&#x25AA;</td></tr>\n",
       "  </thead>\n",
       "  <tbody>\n",
       "    <tr><td class='row_index'>0</td><td>1838633</td><td>RegistryQueryValue ThrottleDrege RegistryQueryValue ThrottleDrege RegistryQueryValue ThrottleDrege R&#133;</td><td>k5c7fb0927db37372da25f270708103a2</td><td>1</td><td>1848</td><td>WMIADAP.exe</td><td>&minus;1</td></tr>\n",
       "    <tr><td class='row_index'>1</td><td>1838634</td><td>RegistryQueryValue ThrottleDrege RegistryQueryValue ThrottleDrege RegistryQueryValue ThrottleDrege R&#133;</td><td>k5c7fb0927db37372da25f270708103a2</td><td>1</td><td>1848</td><td>WMIADAP.exe</td><td>&minus;1</td></tr>\n",
       "    <tr><td class='row_index'>2</td><td>1838635</td><td>RegistryQueryValue ThrottleDrege RegistryQueryValue ThrottleDrege RegistryQueryValue ThrottleDrege R&#133;</td><td>k5c7fb0927db37372da25f270708103a2</td><td>1</td><td>1848</td><td>WMIADAP.exe</td><td>&minus;1</td></tr>\n",
       "  </tbody>\n",
       "  </table>\n",
       "  <div class='footer'>\n",
       "    <div class='frame_dimensions'>3 rows &times; 7 columns</div>\n",
       "  </div>\n",
       "</div>\n"
      ],
      "text/plain": [
       "<Frame#7f9afade9120 3x7>"
      ]
     },
     "execution_count": 8,
     "metadata": {},
     "output_type": "execute_result"
    }
   ],
   "source": [
    "### load dataset\n",
    "import numpy as np\n",
    "import pandas as pd\n",
    "import datatable as dt\n",
    "\n",
    "data = dt.fread(args[\"dataset\"], fill=True)\n",
    "data = data[dt.f.index == \"k5c7fb0927db37372da25f270708103a2\", :]\n",
    "data.head(3)"
   ]
  },
  {
   "cell_type": "code",
   "execution_count": 9,
   "metadata": {},
   "outputs": [
    {
     "name": "stderr",
     "output_type": "stream",
     "text": [
      "100%|██████████| 42698/42698 [03:47<00:00, 187.93it/s]\n"
     ]
    }
   ],
   "source": [
    "from tqdm import tqdm\n",
    "\n",
    "extractor.features.clear()\n",
    "predictor = predictor.eval().cuda()\n",
    "for i in tqdm(range(data.nrows)):\n",
    "    padded_sent_seq = tokenizer(data[i, 1], padding=True, truncation=True, max_length=2048, return_tensors=\"pt\")\n",
    "    data_length = torch.tensor([sum(mask) for mask in padded_sent_seq[\"attention_mask\"]])\n",
    "\n",
    "    with torch.no_grad():\n",
    "        pred = predictor(padded_sent_seq[\"input_ids\"].cuda(), padded_sent_seq[\"attention_mask\"].cuda(), data_length)"
   ]
  },
  {
   "cell_type": "code",
   "execution_count": 10,
   "metadata": {},
   "outputs": [
    {
     "data": {
      "text/plain": [
       "torch.Size([42698, 64])"
      ]
     },
     "execution_count": 10,
     "metadata": {},
     "output_type": "execute_result"
    }
   ],
   "source": [
    "features_after_embedding = torch.cat([x.mean(dim=1) for x in extractor.features[\"net.input_net.0\"]])\n",
    "features_after_embedding.shape"
   ]
  },
  {
   "cell_type": "code",
   "execution_count": 11,
   "metadata": {},
   "outputs": [
    {
     "ename": "TypeError",
     "evalue": "can't convert cuda:0 device type tensor to numpy. Use Tensor.cpu() to copy the tensor to host memory first.",
     "output_type": "error",
     "traceback": [
      "\u001b[0;31m---------------------------------------------------------------------------\u001b[0m",
      "\u001b[0;31mTypeError\u001b[0m                                 Traceback (most recent call last)",
      "Cell \u001b[0;32mIn[11], line 6\u001b[0m\n\u001b[1;32m      3\u001b[0m \u001b[38;5;28;01mfrom\u001b[39;00m \u001b[38;5;21;01mmatplotlib\u001b[39;00m \u001b[38;5;28;01mimport\u001b[39;00m pyplot \u001b[38;5;28;01mas\u001b[39;00m plt\n\u001b[1;32m      5\u001b[0m tsne \u001b[38;5;241m=\u001b[39m TSNE(n_components\u001b[38;5;241m=\u001b[39m\u001b[38;5;241m2\u001b[39m) \n\u001b[0;32m----> 6\u001b[0m x \u001b[38;5;241m=\u001b[39m tsne\u001b[38;5;241m.\u001b[39mfit_transform(\u001b[43mfeatures_after_embedding\u001b[49m\u001b[38;5;241;43m.\u001b[39;49m\u001b[43mnumpy\u001b[49m\u001b[43m(\u001b[49m\u001b[43m)\u001b[49m)  \n\u001b[1;32m      8\u001b[0m \u001b[38;5;66;03m# 设置图例样式\u001b[39;00m\n\u001b[1;32m      9\u001b[0m maker \u001b[38;5;241m=\u001b[39m [\u001b[38;5;124m'\u001b[39m\u001b[38;5;124mo\u001b[39m\u001b[38;5;124m'\u001b[39m, \u001b[38;5;124m'\u001b[39m\u001b[38;5;124ms\u001b[39m\u001b[38;5;124m'\u001b[39m, \u001b[38;5;124m'\u001b[39m\u001b[38;5;124m^\u001b[39m\u001b[38;5;124m'\u001b[39m, \u001b[38;5;124m'\u001b[39m\u001b[38;5;124ms\u001b[39m\u001b[38;5;124m'\u001b[39m, \u001b[38;5;124m'\u001b[39m\u001b[38;5;124mp\u001b[39m\u001b[38;5;124m'\u001b[39m, \u001b[38;5;124m'\u001b[39m\u001b[38;5;124m*\u001b[39m\u001b[38;5;124m'\u001b[39m, \u001b[38;5;124m'\u001b[39m\u001b[38;5;124m<\u001b[39m\u001b[38;5;124m'\u001b[39m, \u001b[38;5;124m'\u001b[39m\u001b[38;5;124m>\u001b[39m\u001b[38;5;124m'\u001b[39m, \u001b[38;5;124m'\u001b[39m\u001b[38;5;124mD\u001b[39m\u001b[38;5;124m'\u001b[39m, \u001b[38;5;124m'\u001b[39m\u001b[38;5;124md\u001b[39m\u001b[38;5;124m'\u001b[39m, \u001b[38;5;124m'\u001b[39m\u001b[38;5;124mh\u001b[39m\u001b[38;5;124m'\u001b[39m, \u001b[38;5;124m'\u001b[39m\u001b[38;5;124mH\u001b[39m\u001b[38;5;124m'\u001b[39m]\n",
      "\u001b[0;31mTypeError\u001b[0m: can't convert cuda:0 device type tensor to numpy. Use Tensor.cpu() to copy the tensor to host memory first."
     ]
    }
   ],
   "source": [
    "## t-sne降维分析\n",
    "from sklearn.manifold import TSNE \n",
    "from matplotlib import pyplot as plt\n",
    "\n",
    "features = features_after_embedding.cpu().numpy()\n",
    "\n",
    "tsne = TSNE(n_components=2) \n",
    "x = tsne.fit_transform(features)  \n",
    "\n",
    "# 设置图例样式\n",
    "maker = ['o', 's', '^', 's', 'p', '*', '<', '>', 'D', 'd', 'h', 'H']\n",
    "colors = ['#e38c7a', '#656667', '#99a4bc', 'cyan', 'blue', 'lime', 'r', 'violet', 'm', 'peru', 'olivedrab', 'hotpink']\n",
    "labels = ['a', 'b', 'c', 'd']\n",
    "font = {'family': 'Times New Roman', 'weight': 'bold', 'size': 32}\n",
    "\n",
    "# 图像绘制\n",
    "def plotlabels(x, y, labels, name):\n",
    "    data = pd.DataFrame({'x': x, 'y': y, 'label': labels})\n",
    "    for index in range(2):  # 假设总共有三个类别，类别的表示为0,1,2\n",
    "        X = data.loc[data['label'] == index]['x']\n",
    "        Y = data.loc[data['label'] == index]['y']\n",
    "        plt.scatter(X, Y, cmap='brg', s=100, marker=maker[index], c=colors[index], edgecolors=colors[index], alpha=0.65)\n",
    "\n",
    "        plt.xticks([])  # 去掉横坐标值\n",
    "        plt.yticks([])  # 去掉纵坐标值\n",
    "    plt.title(name, fontsize=32, fontweight='normal', pad=20)\n",
    "\n",
    "\n",
    "fig = plt.figure(figsize=(10, 10))\n",
    "plotlabels(features[:, 0], features[:, 1], data[:, dt.f.label].to_numpy())\n",
    "plt.show(fig)"
   ]
  }
 ],
 "metadata": {
  "kernelspec": {
   "display_name": "torch",
   "language": "python",
   "name": "python3"
  },
  "language_info": {
   "codemirror_mode": {
    "name": "ipython",
    "version": 3
   },
   "file_extension": ".py",
   "mimetype": "text/x-python",
   "name": "python",
   "nbconvert_exporter": "python",
   "pygments_lexer": "ipython3",
   "version": "3.8.10"
  }
 },
 "nbformat": 4,
 "nbformat_minor": 2
}
