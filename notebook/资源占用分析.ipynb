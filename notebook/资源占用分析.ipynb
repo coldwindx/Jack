{
 "cells": [
  {
   "cell_type": "code",
   "execution_count": 16,
   "metadata": {},
   "outputs": [],
   "source": [
    "import os\n",
    "import sys\n",
    "from tqdm import tqdm\n",
    "import torch\n",
    "from transformers import BertTokenizerFast\n",
    "import lightning as pl"
   ]
  },
  {
   "cell_type": "code",
   "execution_count": 17,
   "metadata": {},
   "outputs": [
    {
     "name": "stderr",
     "output_type": "stream",
     "text": [
      "Seed set to 42\n"
     ]
    }
   ],
   "source": [
    "sys.path.append(os.path.abspath(os.path.join(os.getcwd(), os.pardir)))  \n",
    "pl.seed_everything(42, workers=True)\n",
    "torch.set_float32_matmul_precision(precision=\"high\")"
   ]
  },
  {
   "cell_type": "code",
   "execution_count": 18,
   "metadata": {},
   "outputs": [],
   "source": [
    "args = {\n",
    "    \"pretrain\": '/home/zhulin/pretrain/bert_pretrain_uncased/',\n",
    "    \"model\": \"/mnt/sdd1/data/zhulin/jack/models/DeepGuard-100.ckpt\",\n",
    "    \"tfidf\": \"../common/tfidf.ph\",\n",
    "    \"fasttext\": \"../common/fasttext.ph\",\n",
    "    \"dataset\": \"/home/zhulin/datasets/cdatasets.test.5.csv\",\n",
    "    \"batch_size\": 4\n",
    "}\n"
   ]
  },
  {
   "cell_type": "code",
   "execution_count": 19,
   "metadata": {},
   "outputs": [],
   "source": [
    "class Timer:\n",
    "    def __init__(self):\n",
    "        # 设置用于测量时间的 cuda Event, 这是PyTorch 官方推荐的接口,理论上应该最靠谱\n",
    "        self.starter = torch.cuda.Event(enable_timing=True)\n",
    "        self.ender = torch.cuda.Event(enable_timing=True)\n",
    "\n",
    "    def warmup(self, epochs, interface, *args, **kwargs):\n",
    "        # 预热, GPU 平时可能为了节能而处于休眠状态, 因此需要预热\n",
    "        with torch.no_grad():\n",
    "            for _ in tqdm(range(epochs)):\n",
    "                interface(*args, **kwargs)\n",
    "        torch.cuda.synchronize()\n",
    "\n",
    "    def measure(self, epochs, interface, *args, **kwargs):\n",
    "        timeings = []\n",
    "        for _ in tqdm(range(epochs)):\n",
    "            self.starter.record()\n",
    "            interface(*args, **kwargs)\n",
    "            self.ender.record()\n",
    "            torch.cuda.synchronize() # 等待GPU任务完成\n",
    "            t = self.starter.elapsed_time(self.ender)\n",
    "            \n",
    "            timeings.append(t)\n",
    "        return timeings"
   ]
  },
  {
   "cell_type": "code",
   "execution_count": 20,
   "metadata": {},
   "outputs": [],
   "source": [
    "### load model\n",
    "# tokenizer = BertTokenizerFast.from_pretrained(args[\"pretrain\"], use_fast=True)\n",
    "# predictor = torch.jit.load(args[\"model\"])\n",
    "\n",
    "import pickle\n",
    "from gensim.models import FastText\n",
    "from core.predictor import DeepGuardPredictor\n",
    "# ckpt = torch.load(args[\"model\"])\n",
    "# predictor = DeepGuardPredictor(**ckpt[\"hyper_parameters\"])\n",
    "# predictor.load_state_dict(ckpt[\"state_dict\"])\n",
    "# tv = pickle.load(open(args[\"tfidf\"], \"rb\"))\n",
    "# fasttext = FastText.load(args[\"fasttext\"])\n",
    "tv = pickle.load(open(\"/home/zhulin/workspace/Sun-core/ckpt/ScETTask/TfidfVectorizer.ckpt\", \"rb\"))\n",
    "clf = pickle.load(open(\"/home/zhulin/workspace/Sun-core/ckpt/ScETTask/ExtraTreesClassifier.ckpt\", \"rb\"))"
   ]
  },
  {
   "cell_type": "code",
   "execution_count": 4,
   "metadata": {},
   "outputs": [
    {
     "data": {
      "text/html": [
       "<style type='text/css'>\n",
       ".datatable table.frame { margin-bottom: 0; }\n",
       ".datatable table.frame thead { border-bottom: none; }\n",
       ".datatable table.frame tr.coltypes td {  color: #FFFFFF;  line-height: 6px;  padding: 0 0.5em;}\n",
       ".datatable .bool    { background: #DDDD99; }\n",
       ".datatable .object  { background: #565656; }\n",
       ".datatable .int     { background: #5D9E5D; }\n",
       ".datatable .float   { background: #4040CC; }\n",
       ".datatable .str     { background: #CC4040; }\n",
       ".datatable .time    { background: #40CC40; }\n",
       ".datatable .row_index {  background: var(--jp-border-color3);  border-right: 1px solid var(--jp-border-color0);  color: var(--jp-ui-font-color3);  font-size: 9px;}\n",
       ".datatable .frame tbody td { text-align: left; }\n",
       ".datatable .frame tr.coltypes .row_index {  background: var(--jp-border-color0);}\n",
       ".datatable th:nth-child(2) { padding-left: 12px; }\n",
       ".datatable .hellipsis {  color: var(--jp-cell-editor-border-color);}\n",
       ".datatable .vellipsis {  background: var(--jp-layout-color0);  color: var(--jp-cell-editor-border-color);}\n",
       ".datatable .na {  color: var(--jp-cell-editor-border-color);  font-size: 80%;}\n",
       ".datatable .sp {  opacity: 0.25;}\n",
       ".datatable .footer { font-size: 9px; }\n",
       ".datatable .frame_dimensions {  background: var(--jp-border-color3);  border-top: 1px solid var(--jp-border-color0);  color: var(--jp-ui-font-color3);  display: inline-block;  opacity: 0.6;  padding: 1px 10px 1px 5px;}\n",
       "</style>\n"
      ],
      "text/plain": [
       "<IPython.core.display.HTML object>"
      ]
     },
     "metadata": {},
     "output_type": "display_data"
    },
    {
     "ename": "NameError",
     "evalue": "name 'args' is not defined",
     "output_type": "error",
     "traceback": [
      "\u001b[0;31m---------------------------------------------------------------------------\u001b[0m",
      "\u001b[0;31mNameError\u001b[0m                                 Traceback (most recent call last)",
      "Cell \u001b[0;32mIn[4], line 5\u001b[0m\n\u001b[1;32m      2\u001b[0m \u001b[38;5;28;01mimport\u001b[39;00m \u001b[38;5;21;01mnumpy\u001b[39;00m \u001b[38;5;28;01mas\u001b[39;00m \u001b[38;5;21;01mnp\u001b[39;00m\n\u001b[1;32m      3\u001b[0m \u001b[38;5;28;01mimport\u001b[39;00m \u001b[38;5;21;01mdatatable\u001b[39;00m \u001b[38;5;28;01mas\u001b[39;00m \u001b[38;5;21;01mdt\u001b[39;00m\n\u001b[0;32m----> 5\u001b[0m data \u001b[38;5;241m=\u001b[39m dt\u001b[38;5;241m.\u001b[39mfread(\u001b[43margs\u001b[49m[\u001b[38;5;124m\"\u001b[39m\u001b[38;5;124mdataset\u001b[39m\u001b[38;5;124m\"\u001b[39m], fill\u001b[38;5;241m=\u001b[39m\u001b[38;5;28;01mTrue\u001b[39;00m, max_nrows\u001b[38;5;241m=\u001b[39m\u001b[38;5;241m128\u001b[39m \u001b[38;5;241m*\u001b[39m args[\u001b[38;5;124m\"\u001b[39m\u001b[38;5;124mbatch_size\u001b[39m\u001b[38;5;124m\"\u001b[39m])\u001b[38;5;241m.\u001b[39mto_pandas()\n",
      "\u001b[0;31mNameError\u001b[0m: name 'args' is not defined"
     ]
    }
   ],
   "source": [
    "### load datasets\n",
    "import datatable as dt\n",
    "\n",
    "data = dt.fread(args[\"dataset\"], fill=True, max_nrows=128 * args[\"batch_size\"]).to_pandas()"
   ]
  },
  {
   "cell_type": "code",
   "execution_count": 22,
   "metadata": {},
   "outputs": [],
   "source": [
    "# @torch.no_grad()\n",
    "# def interface(tokenizer, predictor, data, batchsize):\n",
    "#     for l in range(0, len(data), batchsize):\n",
    "#         padded_sent_seq = tokenizer(data.iloc[l:l+batchsize][\"channel\"].to_list(), padding=True, truncation=True, max_length=2048, return_tensors=\"pt\")\n",
    "#         predictor(padded_sent_seq[\"input_ids\"].cuda(), padded_sent_seq[\"attention_mask\"].cuda())\n",
    "\n",
    "# @torch.no_grad()\n",
    "# def interface(tv, fasttext, predictor, data, batchsize):\n",
    "#     for l in range(0, len(data), batchsize):\n",
    "#         tokenizer  = tv.build_tokenizer()\n",
    "#         df = data.iloc[l:l+batchsize].copy()\n",
    "#         df[\"tokens\"] = df[\"channel\"].apply(lambda seq: tokenizer(seq.lower()))\n",
    "#         df[\"length\"] = df[\"tokens\"].apply(lambda tokens: min(2048, len(tokens)))\n",
    "#         maxlen = min(df[\"length\"].max(), 2048)\n",
    "\n",
    "#         tfidfs, vecs = [], []\n",
    "#         for token in df[\"tokens\"].to_list():\n",
    "#             tfidf = torch.zeros(size=(maxlen,), dtype=torch.float32)\n",
    "#             vec = torch.zeros(size=(maxlen, 64), dtype=torch.float32)\n",
    "#             for i, t in enumerate(token[:maxlen]):\n",
    "#                 tfidf[i] = tv.idf_[tv.vocabulary_.get(t, np.argmin(tv.idf_))]\n",
    "#                 vec[i] = torch.from_numpy(fasttext.wv.get_vector(t, True))\n",
    "#             tfidfs.append(tfidf)\n",
    "#             vecs.append(vec)\n",
    "#         predictor(torch.stack(tfidfs).cuda(), torch.stack(vecs).cuda(), torch.from_numpy(df[\"length\"].to_numpy()).cuda())\n",
    "\n",
    "\n",
    "# @torch.no_grad()\n",
    "# def interface(predictor, data, batchsize):\n",
    "#     for l in range(0, len(data), batchsize):\n",
    "#         events = [\"ProcessStart\", \"ProcessEnd\", \"ThreadStart\", \"ThreadEnd\", \"ImageLoad\", \"FileIOWrite\", \"FileIORead\", \"FileIOFileCreate\", \"FileIORename\", \"FileIOCreate\", \"FileIOCleanup\", \"FileIOClose\", \"FileIODelete\", \"FileIOFileDelete\", \"RegistryCreate\", \"RegistrySetValue\", \"RegistryOpen\", \"RegistryDelete\", \"RegistrySetInformation\", \"RegistryQuery\", \"RegistryQueryValue\", \"CallStack\"]\n",
    "#         x = [data[\"channel\"].apply(lambda x:x.count(event)).to_numpy() for event in events]\n",
    "#         X = np.vstack(x).T.astype(np.float32)\n",
    "#         predictor(torch.from_numpy(X).cuda())\n",
    "\n",
    "\n",
    "@torch.no_grad()\n",
    "def interface(predictor, tv, data, batchsize):\n",
    "    tokenizer  = tv.build_tokenizer()\n",
    "    for l in range(0, len(data), batchsize):\n",
    "        df = data.iloc[l:l+batchsize].copy()\n",
    "        df[\"tokens\"] = df[\"channel\"].apply(lambda seq: \" \".join(tokenizer(seq.lower())))\n",
    "        X_test = tv.transform(df[\"tokens\"].to_numpy())\n",
    "        predictor.predict(X_test)\n"
   ]
  },
  {
   "cell_type": "code",
   "execution_count": 23,
   "metadata": {},
   "outputs": [
    {
     "name": "stderr",
     "output_type": "stream",
     "text": [
      "  0%|          | 0/16 [00:00<?, ?it/s]"
     ]
    },
    {
     "name": "stderr",
     "output_type": "stream",
     "text": [
      "100%|██████████| 16/16 [01:14<00:00,  4.64s/it]\n",
      "100%|██████████| 16/16 [01:17<00:00,  4.86s/it]\n",
      "100%|██████████| 16/16 [01:22<00:00,  5.14s/it]\n",
      "100%|██████████| 16/16 [01:28<00:00,  5.54s/it]\n",
      "100%|██████████| 16/16 [01:35<00:00,  5.97s/it]\n",
      "100%|██████████| 16/16 [01:39<00:00,  6.23s/it]\n",
      "100%|██████████| 16/16 [01:42<00:00,  6.42s/it]"
     ]
    },
    {
     "name": "stdout",
     "output_type": "stream",
     "text": [
      "[4632.678314208984, 4853.6942138671875, 5137.10400390625, 5537.635192871094, 5968.170166015625, 6227.828796386719, 6414.866180419922]\n"
     ]
    },
    {
     "name": "stderr",
     "output_type": "stream",
     "text": [
      "\n"
     ]
    }
   ],
   "source": [
    "# predictor.cuda().eval()\n",
    "timer = Timer()\n",
    "times = []\n",
    "\n",
    "data = dt.fread(args[\"dataset\"], fill=True, max_nrows=128 * 8).to_pandas()\n",
    "# timer.warmup(interface, tokenizer, predictor, data, 8)\n",
    "# timer.warmup(10, interface, clf, tv, data, 8)\n",
    "\n",
    "for batch_size in range(4, 32, 4):\n",
    "    data = dt.fread(args[\"dataset\"], fill=True, max_nrows=128 * batch_size).to_pandas()\n",
    "    t = timer.measure(16, interface, clf, tv, data, batch_size)\n",
    "    times.append(sum(t)/len(t))\n",
    "print(times)"
   ]
  },
  {
   "cell_type": "code",
   "execution_count": 1,
   "metadata": {},
   "outputs": [],
   "source": [
    "x = list(range(4, 32, 4))\n",
    "t_transformer = [934.7162742614746, 1911.4823760986328, 2932.9712677001953, 3285.357131958008, 3455.0642700195312, 3560.046096801758, 3834.350570678711]\n",
    "t_deepran = [50411.755126953125, 127691.78759765625, 242284.732421875, 303498.513671875, 351470.556640625, 419730.6953125, 468433.408203125]\n",
    "t_deepguard = [1549.4786529541016, 2958.3955688476562, 4669.412567138672, 5690.229156494141, 6613.483642578125, 7521.523284912109, 8401.05859375]\n",
    "t_extratree = [4632.678314208984, 4853.6942138671875, 5137.10400390625, 5537.635192871094, 5968.170166015625, 6227.828796386719, 6414.866180419922]\n",
    "\n",
    "def throughput(times):\n",
    "    return [batch_size * 128 * 1000 / t for t, batch_size in zip(times, range(4, 32, 4))]\n"
   ]
  },
  {
   "cell_type": "code",
   "execution_count": 17,
   "metadata": {},
   "outputs": [
    {
     "data": {
      "text/plain": [
       "Text(0.5, 0.98, '时间开销')"
      ]
     },
     "execution_count": 17,
     "metadata": {},
     "output_type": "execute_result"
    },
    {
     "data": {
      "image/png": "[encoded data removed]",
      "text/plain": [
       "<Figure size 900x300 with 2 Axes>"
      ]
     },
     "metadata": {},
     "output_type": "display_data"
    }
   ],
   "source": [
    "### 绘制\n",
    "import numpy as np\n",
    "import matplotlib.pyplot as plt\n",
    "\n",
    "plt.get_cmap(\"Set3\")\n",
    "plt.rcParams['font.sans-serif']=['SimHei']\n",
    "plt.rcParams['axes.unicode_minus'] =False\n",
    "fig, axs = plt.subplots(1, 2, figsize=(9, 3), sharey=True)\n",
    "\n",
    "axs[0].set_xlabel(\"Batch Size\")\n",
    "axs[0].set_ylabel(\"响应时间(log)\")\n",
    "axs[0].plot(x, np.log(np.array(t_transformer) / 1000), label=\"SingleChannelTransformer\")\n",
    "axs[0].plot(x, np.log(np.array(t_deepran) / 1000), label=\"BiLstm\")\n",
    "axs[0].plot(x, np.log(np.array(t_deepguard) / 1000), label=\"AutoEncoder\")\n",
    "axs[0].plot(x, np.log(np.array(t_extratree) / 1000), label=\"ExtraTree\")\n",
    "axs[0].legend()\n",
    "\n",
    "axs[1].set_xlabel(\"Batch Size\")\n",
    "axs[1].set_ylabel(\"吞吐量(log)\")\n",
    "axs[1].plot(x, np.log(throughput(t_transformer)), label=\"SingleChannelTransformer\")\n",
    "axs[1].plot(x, np.log(throughput(t_deepran)), label=\"BiLstm\")\n",
    "axs[1].plot(x, np.log(throughput(t_deepguard)), label=\"AutoEncoder\")\n",
    "axs[1].legend()\n",
    "\n",
    "fig.suptitle('时间开销')"
   ]
  }
 ],
 "metadata": {
  "kernelspec": {
   "display_name": "torch",
   "language": "python",
   "name": "python3"
  },
  "language_info": {
   "codemirror_mode": {
    "name": "ipython",
    "version": 3
   },
   "file_extension": ".py",
   "mimetype": "text/x-python",
   "name": "python",
   "nbconvert_exporter": "python",
   "pygments_lexer": "ipython3",
   "version": "3.8.10"
  }
 },
 "nbformat": 4,
 "nbformat_minor": 2
}
