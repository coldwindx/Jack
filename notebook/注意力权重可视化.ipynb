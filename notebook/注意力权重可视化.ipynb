{
 "cells": [
  {
   "cell_type": "code",
   "execution_count": 5,
   "metadata": {},
   "outputs": [
    {
     "name": "stderr",
     "output_type": "stream",
     "text": [
      "/home/zhulin/anaconda3/envs/torch/lib/python3.8/site-packages/tqdm/auto.py:21: TqdmWarning: IProgress not found. Please update jupyter and ipywidgets. See https://ipywidgets.readthedocs.io/en/stable/user_install.html\n",
      "  from .autonotebook import tqdm as notebook_tqdm\n"
     ]
    }
   ],
   "source": [
    "import os\n",
    "import sys\n",
    "import torch\n",
    "from transformers import BertTokenizer\n",
    "import lightning as pl"
   ]
  },
  {
   "cell_type": "code",
   "execution_count": 6,
   "metadata": {},
   "outputs": [
    {
     "data": {
      "text/plain": [
       "'/home/zhulin/workspace/Jack'"
      ]
     },
     "execution_count": 6,
     "metadata": {},
     "output_type": "execute_result"
    }
   ],
   "source": [
    "sys.path.append(os.path.abspath(os.path.join(os.getcwd(), os.pardir)))  \n",
    "os.path.abspath(os.path.join(os.getcwd(), os.pardir))"
   ]
  },
  {
   "cell_type": "code",
   "execution_count": 7,
   "metadata": {},
   "outputs": [
    {
     "name": "stderr",
     "output_type": "stream",
     "text": [
      "Seed set to 42\n"
     ]
    }
   ],
   "source": [
    "pl.seed_everything(42, workers=True)\n",
    "torch.set_float32_matmul_precision(precision=\"high\")"
   ]
  },
  {
   "cell_type": "code",
   "execution_count": 15,
   "metadata": {},
   "outputs": [],
   "source": [
    "args = {\n",
    "    \"pretrain\": '/home/zhulin/pretrain/bert_pretrain_uncased/',\n",
    "    \"model\": \"/home/zhulin/models/single_channel_transformer.ckpt\",\n",
    "    \"dataset\": \"/mnt/sdd1/data/zhulin/jack/cdatasets.test.5.csv\"\n",
    "}\n"
   ]
  },
  {
   "cell_type": "code",
   "execution_count": 9,
   "metadata": {},
   "outputs": [],
   "source": [
    "### load model\n",
    "from core.predictor import SingleChannelPredictor\n",
    "tokenizer = BertTokenizer.from_pretrained(args[\"pretrain\"], use_fast=True)\n",
    "\n",
    "ckpt = torch.load(args[\"model\"])\n",
    "predictor = SingleChannelPredictor(**ckpt[\"hyper_parameters\"])\n",
    "predictor.load_state_dict(ckpt[\"state_dict\"])\n",
    "predictor = predictor.eval().cuda()"
   ]
  },
  {
   "cell_type": "code",
   "execution_count": 53,
   "metadata": {},
   "outputs": [
    {
     "data": {
      "text/html": [
       "<div class='datatable'>\n",
       "  <table class='frame'>\n",
       "  <thead>\n",
       "    <tr class='colnames'><td class='row_index'></td><th>index</th><th>unique_key</th><th>pid</th><th>pname</th><th>label</th><th>channel</th></tr>\n",
       "    <tr class='coltypes'><td class='row_index'></td><td class='str' title='str32'>&#x25AA;&#x25AA;&#x25AA;&#x25AA;</td><td class='int' title='int64'>&#x25AA;&#x25AA;&#x25AA;&#x25AA;&#x25AA;&#x25AA;&#x25AA;&#x25AA;</td><td class='int' title='int32'>&#x25AA;&#x25AA;&#x25AA;&#x25AA;</td><td class='str' title='str32'>&#x25AA;&#x25AA;&#x25AA;&#x25AA;</td><td class='bool' title='bool8'>&#x25AA;</td><td class='str' title='str64'>&#x25AA;&#x25AA;&#x25AA;&#x25AA;&#x25AA;&#x25AA;&#x25AA;&#x25AA;</td></tr>\n",
       "  </thead>\n",
       "  <tbody>\n",
       "    <tr><td class='row_index'>0</td><td>k5c7fb0927db37372da25f270708103a2</td><td>2364563584</td><td>3532</td><td>!WannaDecryptor!.exe</td><td>1</td><td> ProcessStart !WannaDecryptor!.exe f ThreadStart 3024 ImageLoad C:\\Users\\Administrator\\Desktop\\!Wann&#133;</td></tr>\n",
       "    <tr><td class='row_index'>1</td><td>k5c7fb0927db37372da25f270708103a2</td><td>2364563584</td><td>3532</td><td>!WannaDecryptor!.exe</td><td>1</td><td> CallStack RtlDestroyMemoryBlockLookaside LdrFindEntryForAddress LdrFindEntryForAddress LdrResReleas&#133;</td></tr>\n",
       "    <tr><td class='row_index'>2</td><td>k5c7fb0927db37372da25f270708103a2</td><td>2364563584</td><td>3532</td><td>!WannaDecryptor!.exe</td><td>1</td><td> CallStack RtlDestroyMemoryBlockLookaside LdrResRelease LdrSetAppCompatDllRedirectionCallback RtlSub&#133;</td></tr>\n",
       "    <tr><td class='row_index'>3</td><td>k5c7fb0927db37372da25f270708103a2</td><td>2364563584</td><td>3532</td><td>!WannaDecryptor!.exe</td><td>1</td><td> CallStack RtlDestroyMemoryBlockLookaside LdrResRelease LdrSetAppCompatDllRedirectionCallback RtlSub&#133;</td></tr>\n",
       "    <tr><td class='row_index'>4</td><td>k5c7fb0927db37372da25f270708103a2</td><td>2364563584</td><td>3532</td><td>!WannaDecryptor!.exe</td><td>1</td><td> ImageLoad C:\\Windows\\SysWOW64\\KernelBase.dll CallStack PssWalkSnapshot RtlDestroyMemoryBlockLookasi&#133;</td></tr>\n",
       "    <tr><td class='row_index'>5</td><td>k5c7fb0927db37372da25f270708103a2</td><td>2364563584</td><td>3532</td><td>!WannaDecryptor!.exe</td><td>1</td><td> CallStack PssWalkSnapshot RtlDestroyMemoryBlockLookaside LdrResRelease LdrSetAppCompatDllRedirectio&#133;</td></tr>\n",
       "    <tr><td class='row_index'>6</td><td>k5c7fb0927db37372da25f270708103a2</td><td>2364563584</td><td>3532</td><td>!WannaDecryptor!.exe</td><td>1</td><td> FileIOCreate  CallStack PssWalkSnapshot PssWalkSnapshot RtlDestroyMemoryBlockLookaside LdrResReleas&#133;</td></tr>\n",
       "    <tr><td class='row_index'>7</td><td>k5c7fb0927db37372da25f270708103a2</td><td>2364563584</td><td>3532</td><td>!WannaDecryptor!.exe</td><td>1</td><td> FileIOCreate  CallStack PssWalkSnapshot PssWalkSnapshot RtlDestroyMemoryBlockLookaside LdrResReleas&#133;</td></tr>\n",
       "    <tr><td class='row_index'>8</td><td>k5c7fb0927db37372da25f270708103a2</td><td>2364563584</td><td>3532</td><td>!WannaDecryptor!.exe</td><td>1</td><td> FileIOCleanup C:\\Users\\Administrator\\Desktop\\!WannaDecryptor!.exe FileIOClose C:\\Users\\Administrato&#133;</td></tr>\n",
       "    <tr><td class='row_index'>9</td><td>k5c7fb0927db37372da25f270708103a2</td><td>2364563584</td><td>3532</td><td>!WannaDecryptor!.exe</td><td>1</td><td> CallStack PssWalkSnapshot RtlDestroyMemoryBlockLookaside LdrResRelease LdrSetAppCompatDllRedirectio&#133;</td></tr>\n",
       "    <tr><td class='row_index'>10</td><td>k5c7fb0927db37372da25f270708103a2</td><td>2364563584</td><td>3532</td><td>!WannaDecryptor!.exe</td><td>1</td><td> CallStack RtlDestroyMemoryBlockLookaside LdrResRelease LdrSetAppCompatDllRedirectionCallback RtlSub&#133;</td></tr>\n",
       "    <tr><td class='row_index'>11</td><td>k5c7fb0927db37372da25f270708103a2</td><td>2364563584</td><td>3532</td><td>!WannaDecryptor!.exe</td><td>1</td><td> CallStack StringFromCLSID LdrResRelease LdrSetAppCompatDllRedirectionCallback RtlSubAuthorityCountS&#133;</td></tr>\n",
       "    <tr><td class='row_index'>12</td><td>k5c7fb0927db37372da25f270708103a2</td><td>2364563584</td><td>3532</td><td>!WannaDecryptor!.exe</td><td>1</td><td> RegistrySetInformation ResourcePolicies RegistryOpen \\Registry\\MACHINE\\SYSTEM\\CurrentControlSet\\Con&#133;</td></tr>\n",
       "    <tr><td class='row_index'>13</td><td>k5c7fb0927db37372da25f270708103a2</td><td>2364563584</td><td>3532</td><td>!WannaDecryptor!.exe</td><td>1</td><td> RegistryOpen \\REGISTRY\\MACHINE\\SOFTWARE\\Wow6432Node\\Tencent\\Options\\9B564D5 RegistryOpen \\Registry\\&#133;</td></tr>\n",
       "    <tr><td class='row_index'>14</td><td>k5c7fb0927db37372da25f270708103a2</td><td>2364563584</td><td>3532</td><td>!WannaDecryptor!.exe</td><td>1</td><td> RegistryQueryValue TSUserEnabled RegistryOpen \\Registry\\Machine\\Software\\Wow6432Node\\Policies\\Micro&#133;</td></tr>\n",
       "    <tr><td class='row_index'>&#x22EE;</td><td class='hellipsis'>&#x22EE;</td><td class='hellipsis'>&#x22EE;</td><td class='hellipsis'>&#x22EE;</td><td class='hellipsis'>&#x22EE;</td><td class='hellipsis'>&#x22EE;</td><td class='hellipsis'>&#x22EE;</td></tr>\n",
       "    <tr><td class='row_index'>845</td><td>k5c7fb0927db37372da25f270708103a2</td><td>2338706880</td><td>3604</td><td>!WannaDecryptor!.exe</td><td>1</td><td> FileIOCreate  CallStack PssWalkSnapshot PssWalkSnapshot RtlDestroyMemoryBlockLookaside LdrResReleas&#133;</td></tr>\n",
       "    <tr><td class='row_index'>846</td><td>k5c7fb0927db37372da25f270708103a2</td><td>2338706880</td><td>3604</td><td>!WannaDecryptor!.exe</td><td>1</td><td> FileIOCleanup C:\\Users\\Administrator\\Desktop\\TaskHost\\tDB32.tmp RegistrySetInformation CacheOk Regi&#133;</td></tr>\n",
       "    <tr><td class='row_index'>847</td><td>k5c7fb0927db37372da25f270708103a2</td><td>2339940032</td><td>944</td><td>!WannaDecryptor!.exe</td><td>1</td><td> CallStack TF_IsCtfmonRunning  CallStack TF_IsCtfmonRunning PssWalkSnapshot GetLogicalProcessorInfor&#133;</td></tr>\n",
       "    <tr><td class='row_index'>848</td><td>k5c7fb0927db37372da25f270708103a2</td><td>2338706880</td><td>3604</td><td>!WannaDecryptor!.exe</td><td>1</td><td> RegistryOpen SOFTWARE\\Classes\\PROTOCOLS\\Handler\\ RegistryCreate \\REGISTRY\\MACHINE\\Software\\Wow6432N&#133;</td></tr>\n",
       "    <tr><td class='row_index'>849</td><td>k5c7fb0927db37372da25f270708103a2</td><td>2364563584</td><td>3532</td><td>!WannaDecryptor!.exe</td><td>1</td><td> RegistrySetInformation CLSID RegistryQueryValue CacheOk RegistryOpen SOFTWARE\\Classes\\PROTOCOLS\\Han&#133;</td></tr>\n",
       "  </tbody>\n",
       "  </table>\n",
       "  <div class='footer'>\n",
       "    <div class='frame_dimensions'>850 rows &times; 6 columns</div>\n",
       "  </div>\n",
       "</div>\n"
      ],
      "text/plain": [
       "<Frame#7fe0bd958c30 850x6>"
      ]
     },
     "execution_count": 53,
     "metadata": {},
     "output_type": "execute_result"
    }
   ],
   "source": [
    "### load data\n",
    "import datatable as dt\n",
    "\n",
    "data = dt.fread(args[\"dataset\"], fill=True)\n",
    "data = data[(dt.f.index == \"k5c7fb0927db37372da25f270708103a2\") & (dt.f.pname == \"!WannaDecryptor!.exe\") , :]\n",
    "data"
   ]
  },
  {
   "cell_type": "code",
   "execution_count": 49,
   "metadata": {},
   "outputs": [
    {
     "data": {
      "text/plain": [
       "tensor([[0.1628]], device='cuda:0')"
      ]
     },
     "execution_count": 49,
     "metadata": {},
     "output_type": "execute_result"
    }
   ],
   "source": [
    "from common.extractor import FeatureExtractor\n",
    "\n",
    "# input = \"ProcessStart !WannaDecryptor!.exe\"\n",
    "input = \"ImageLoad C:\\Windows\\SysWOW64\\KernelBase.dll\"\n",
    "input = \"CallStack RtlDestroyMemoryBlockLookaside LdrFindEntryForAddress LdrFindEntryForAddress\"\n",
    "\n",
    "extractor = FeatureExtractor()\n",
    "extractor.register(predictor, [\"net.transformer.layers.0.attn\"])\n",
    "predictor = predictor.eval().cuda()\n",
    "padded_sent_seq = tokenizer(input, padding=True, truncation=True, max_length=2048, return_tensors=\"pt\")\n",
    "data_length = torch.tensor([sum(mask) for mask in padded_sent_seq[\"attention_mask\"]])\n",
    "\n",
    "with torch.no_grad():\n",
    "    pred = predictor(padded_sent_seq[\"input_ids\"].cuda(), padded_sent_seq[\"attention_mask\"].cuda(), data_length)\n",
    "pred"
   ]
  },
  {
   "cell_type": "code",
   "execution_count": 50,
   "metadata": {},
   "outputs": [],
   "source": [
    "attentions = extractor.features[\"net.transformer.layers.0.attn\"][0][-1]\n",
    "tokens = tokenizer.convert_ids_to_tokens(padded_sent_seq[\"input_ids\"][0])"
   ]
  },
  {
   "cell_type": "code",
   "execution_count": 51,
   "metadata": {},
   "outputs": [
    {
     "name": "stdout",
     "output_type": "stream",
     "text": [
      "inputs: tensor([[  101,     3,     5, 25510, 12881, 22254,  4765,  2854, 29278,  4215,\n",
      "         16200,  4757, 25510, 12881, 22254,  4765,  2854, 29278,  4215, 16200,\n",
      "          4757,   102]])\n",
      "tokens: ['[CLS]', 'callstack', 'rtldestroymemoryblocklookaside', 'ld', '##rf', '##ind', '##ent', '##ry', '##for', '##ad', '##dre', '##ss', 'ld', '##rf', '##ind', '##ent', '##ry', '##for', '##ad', '##dre', '##ss', '[SEP]']\n"
     ]
    }
   ],
   "source": [
    "from transformers import AutoTokenizer, AutoModel, utils\n",
    "from bertviz import model_view, head_view\n",
    "utils.logging.set_verbosity_error()  # Suppress standard warnings\n",
    "tokenizer.add_special_tokens({ \"additional_special_tokens\": [\"[unused1]\", \"[unused2]\", \"[unused3]\"] })\n",
    "inputs = tokenizer.encode(input, return_tensors='pt')  # Tokenize input text\n",
    "print('inputs:', inputs)\n",
    "print('tokens:', tokens)\n",
    "html_head_view = head_view([attentions], tokens, html_action='return')\n",
    "\n",
    "with open(\"head_view.html\", 'w') as file:\n",
    "    file.write(html_head_view.data)\n"
   ]
  },
  {
   "cell_type": "code",
   "execution_count": 10,
   "metadata": {},
   "outputs": [],
   "source": [
    "import matplotlib.pyplot as plt\n",
    "import seaborn as sns\n",
    "### 绘制热力图\n",
    "def attention_plot(attention, x_texts, y_texts=None, figsize=(15, 10), annot=False, path=\"./png\"):\n",
    "    plt.clf()\n",
    "    fig, ax = plt.subplots(figsize=figsize)\n",
    "    sns.set(font_scale=1.25)\n",
    "    hm = sns.heatmap(attention,\n",
    "                     cbar=True,\n",
    "                     cmap=\"RdBu_r\",\n",
    "                     annot=annot,\n",
    "                     square=True,\n",
    "                     fmt='.2f',\n",
    "                     annot_kws={'size': 10},\n",
    "                     yticklabels=y_texts,\n",
    "                     xticklabels=x_texts)\n",
    "    plt.savefig(path)\n",
    "    plt.close()\n"
   ]
  },
  {
   "cell_type": "code",
   "execution_count": 11,
   "metadata": {},
   "outputs": [
    {
     "name": "stderr",
     "output_type": "stream",
     "text": [
      "100%|██████████| 8/8 [00:00<00:00, 158.57it/s]\n"
     ]
    }
   ],
   "source": [
    "### 单头热力图\n",
    "from tqdm import tqdm\n",
    "from torch.nn import functional as F\n",
    "\n",
    "attentions = o_features[0][1]\n",
    "heads = attentions.shape[1]\n",
    "texts = tokenizer.convert_ids_to_tokens(padded_sent_seq[\"input_ids\"][0])\n",
    "os.makedirs(\"./png\", exist_ok=True)\n",
    "\n",
    "# Attention 归一化\n",
    "attentions = F.normalize(attentions, p=2, dim=-1)\n",
    "# 创建 pandas DataFrame\n",
    "import pandas as pd\n",
    "for i in tqdm(range(heads)):\n",
    "    pd.DataFrame(attentions[0, i, :, :].cpu().numpy()).to_csv(f\"output{i}.csv\", index=False, header=False)"
   ]
  },
  {
   "cell_type": "code",
   "execution_count": 14,
   "metadata": {},
   "outputs": [],
   "source": [
    "!rm -f output0.csv\n",
    "!rm -f output1.csv\n",
    "!rm -f output2.csv\n",
    "!rm -f output3.csv\n",
    "!rm -f output4.csv\n",
    "!rm -f output5.csv\n",
    "!rm -f output6.csv\n",
    "!rm -f output7.csv"
   ]
  },
  {
   "cell_type": "code",
   "execution_count": 35,
   "metadata": {},
   "outputs": [
    {
     "data": {
      "text/plain": [
       "['system',\n",
       " 'sy',\n",
       " '##cr',\n",
       " 'administrator',\n",
       " 'callstack',\n",
       " 'users',\n",
       " 'process',\n",
       " 'dll',\n",
       " '##dl',\n",
       " 'threadstart',\n",
       " 'dll',\n",
       " 'imageload',\n",
       " '##dl',\n",
       " 'imageload',\n",
       " 'imageload',\n",
       " '##star']"
      ]
     },
     "execution_count": 35,
     "metadata": {},
     "output_type": "execute_result"
    }
   ],
   "source": [
    "# ==============================================================\n",
    "# SUM\n",
    "# ==============================================================\n",
    "from torch.nn import functional as F\n",
    "# 按Heads取和\n",
    "attentions = o_features[0][1].sum(axis=1)\n",
    "heads = attentions.shape[1]\n",
    "texts = tokenizer.convert_ids_to_tokens(padded_sent_seq[\"input_ids\"][0])\n",
    "os.makedirs(\"./png\", exist_ok=True)\n",
    "\n",
    "# 显示Attention\n",
    "# attention_plot(attentions[0, :, :].cpu(), annot=True, x_texts=texts, y_texts=texts, figsize=(15, 15), path=f\"./png/sum_head.png\")\n",
    "\n",
    "# Attention 归一化\n",
    "attentions = F.normalize(attentions, p=2, dim=-1)\n",
    "# attention_plot(attentions[0, :, :].cpu(), x_texts=texts, y_texts=texts, annot=True, figsize=(15, 15), path=f\"./png/sum_norm_head.png\")\n",
    "\n",
    "# 创建 pandas DataFrame\n",
    "# import pandas as pd\n",
    "# pd.DataFrame(attentions[0, :, :].cpu().numpy()).to_csv(\"output.csv\", index=False, header=False)\n"
   ]
  }
 ],
 "metadata": {
  "kernelspec": {
   "display_name": "torch",
   "language": "python",
   "name": "python3"
  },
  "language_info": {
   "codemirror_mode": {
    "name": "ipython",
    "version": 3
   },
   "file_extension": ".py",
   "mimetype": "text/x-python",
   "name": "python",
   "nbconvert_exporter": "python",
   "pygments_lexer": "ipython3",
   "version": "3.8.10"
  }
 },
 "nbformat": 4,
 "nbformat_minor": 2
}
